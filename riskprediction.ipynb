{
 "cells": [
  {
   "cell_type": "code",
   "execution_count": 1,
   "id": "17dd9491",
   "metadata": {
    "execution": {
     "iopub.execute_input": "2022-12-30T15:55:33.172221Z",
     "iopub.status.busy": "2022-12-30T15:55:33.171774Z",
     "iopub.status.idle": "2022-12-30T15:55:34.122270Z",
     "shell.execute_reply": "2022-12-30T15:55:34.121286Z"
    },
    "papermill": {
     "duration": 0.958542,
     "end_time": "2022-12-30T15:55:34.124645",
     "exception": false,
     "start_time": "2022-12-30T15:55:33.166103",
     "status": "completed"
    },
    "tags": []
   },
   "outputs": [],
   "source": [
    "import pandas as pd\n",
    "import numpy as np\n",
    "from sklearn import linear_model"
   ]
  },
  {
   "cell_type": "code",
   "execution_count": 2,
   "id": "c2351def",
   "metadata": {
    "execution": {
     "iopub.execute_input": "2022-12-30T15:55:34.134159Z",
     "iopub.status.busy": "2022-12-30T15:55:34.132667Z",
     "iopub.status.idle": "2022-12-30T15:55:34.155821Z",
     "shell.execute_reply": "2022-12-30T15:55:34.154966Z"
    },
    "papermill": {
     "duration": 0.029381,
     "end_time": "2022-12-30T15:55:34.157769",
     "exception": false,
     "start_time": "2022-12-30T15:55:34.128388",
     "status": "completed"
    },
    "tags": []
   },
   "outputs": [],
   "source": [
    "df = pd.read_csv('/kaggle/input/d/anikchandra70/car-driving-risk-analysis/car driving risk analysis.csv')"
   ]
  },
  {
   "cell_type": "code",
   "execution_count": 3,
   "id": "4aa32fb4",
   "metadata": {
    "execution": {
     "iopub.execute_input": "2022-12-30T15:55:34.165276Z",
     "iopub.status.busy": "2022-12-30T15:55:34.165007Z",
     "iopub.status.idle": "2022-12-30T15:55:34.181316Z",
     "shell.execute_reply": "2022-12-30T15:55:34.179931Z"
    },
    "papermill": {
     "duration": 0.023341,
     "end_time": "2022-12-30T15:55:34.184302",
     "exception": false,
     "start_time": "2022-12-30T15:55:34.160961",
     "status": "completed"
    },
    "tags": []
   },
   "outputs": [
    {
     "data": {
      "text/html": [
       "<div>\n",
       "<style scoped>\n",
       "    .dataframe tbody tr th:only-of-type {\n",
       "        vertical-align: middle;\n",
       "    }\n",
       "\n",
       "    .dataframe tbody tr th {\n",
       "        vertical-align: top;\n",
       "    }\n",
       "\n",
       "    .dataframe thead th {\n",
       "        text-align: right;\n",
       "    }\n",
       "</style>\n",
       "<table border=\"1\" class=\"dataframe\">\n",
       "  <thead>\n",
       "    <tr style=\"text-align: right;\">\n",
       "      <th></th>\n",
       "      <th>speed</th>\n",
       "      <th>car_age</th>\n",
       "      <th>experience</th>\n",
       "      <th>risk</th>\n",
       "    </tr>\n",
       "  </thead>\n",
       "  <tbody>\n",
       "    <tr>\n",
       "      <th>0</th>\n",
       "      <td>200</td>\n",
       "      <td>15</td>\n",
       "      <td>5.0</td>\n",
       "      <td>85</td>\n",
       "    </tr>\n",
       "    <tr>\n",
       "      <th>1</th>\n",
       "      <td>90</td>\n",
       "      <td>17</td>\n",
       "      <td>13.0</td>\n",
       "      <td>20</td>\n",
       "    </tr>\n",
       "    <tr>\n",
       "      <th>2</th>\n",
       "      <td>165</td>\n",
       "      <td>12</td>\n",
       "      <td>4.0</td>\n",
       "      <td>93</td>\n",
       "    </tr>\n",
       "    <tr>\n",
       "      <th>3</th>\n",
       "      <td>110</td>\n",
       "      <td>20</td>\n",
       "      <td>NaN</td>\n",
       "      <td>60</td>\n",
       "    </tr>\n",
       "    <tr>\n",
       "      <th>4</th>\n",
       "      <td>140</td>\n",
       "      <td>5</td>\n",
       "      <td>3.0</td>\n",
       "      <td>82</td>\n",
       "    </tr>\n",
       "    <tr>\n",
       "      <th>5</th>\n",
       "      <td>115</td>\n",
       "      <td>2</td>\n",
       "      <td>8.0</td>\n",
       "      <td>10</td>\n",
       "    </tr>\n",
       "  </tbody>\n",
       "</table>\n",
       "</div>"
      ],
      "text/plain": [
       "   speed  car_age  experience  risk\n",
       "0    200       15         5.0    85\n",
       "1     90       17        13.0    20\n",
       "2    165       12         4.0    93\n",
       "3    110       20         NaN    60\n",
       "4    140        5         3.0    82\n",
       "5    115        2         8.0    10"
      ]
     },
     "execution_count": 3,
     "metadata": {},
     "output_type": "execute_result"
    }
   ],
   "source": [
    "df"
   ]
  },
  {
   "cell_type": "code",
   "execution_count": 4,
   "id": "7a5a968f",
   "metadata": {
    "execution": {
     "iopub.execute_input": "2022-12-30T15:55:34.192539Z",
     "iopub.status.busy": "2022-12-30T15:55:34.191921Z",
     "iopub.status.idle": "2022-12-30T15:55:34.199554Z",
     "shell.execute_reply": "2022-12-30T15:55:34.198714Z"
    },
    "papermill": {
     "duration": 0.013782,
     "end_time": "2022-12-30T15:55:34.201555",
     "exception": false,
     "start_time": "2022-12-30T15:55:34.187773",
     "status": "completed"
    },
    "tags": []
   },
   "outputs": [
    {
     "data": {
      "text/plain": [
       "speed         0\n",
       "car_age       0\n",
       "experience    1\n",
       "risk          0\n",
       "dtype: int64"
      ]
     },
     "execution_count": 4,
     "metadata": {},
     "output_type": "execute_result"
    }
   ],
   "source": [
    "df.isnull().sum()"
   ]
  },
  {
   "cell_type": "code",
   "execution_count": 5,
   "id": "505cded0",
   "metadata": {
    "execution": {
     "iopub.execute_input": "2022-12-30T15:55:34.211057Z",
     "iopub.status.busy": "2022-12-30T15:55:34.209661Z",
     "iopub.status.idle": "2022-12-30T15:55:34.219820Z",
     "shell.execute_reply": "2022-12-30T15:55:34.218773Z"
    },
    "papermill": {
     "duration": 0.016502,
     "end_time": "2022-12-30T15:55:34.221828",
     "exception": false,
     "start_time": "2022-12-30T15:55:34.205326",
     "status": "completed"
    },
    "tags": []
   },
   "outputs": [
    {
     "data": {
      "text/plain": [
       "5.0"
      ]
     },
     "execution_count": 5,
     "metadata": {},
     "output_type": "execute_result"
    }
   ],
   "source": [
    "exa_fit = df.experience.median()\n",
    "exa_fit"
   ]
  },
  {
   "cell_type": "code",
   "execution_count": 6,
   "id": "19fffa38",
   "metadata": {
    "execution": {
     "iopub.execute_input": "2022-12-30T15:55:34.231559Z",
     "iopub.status.busy": "2022-12-30T15:55:34.230026Z",
     "iopub.status.idle": "2022-12-30T15:55:34.235255Z",
     "shell.execute_reply": "2022-12-30T15:55:34.234319Z"
    },
    "papermill": {
     "duration": 0.011796,
     "end_time": "2022-12-30T15:55:34.237412",
     "exception": false,
     "start_time": "2022-12-30T15:55:34.225616",
     "status": "completed"
    },
    "tags": []
   },
   "outputs": [],
   "source": [
    "df=df.fillna(exa_fit)"
   ]
  },
  {
   "cell_type": "code",
   "execution_count": 7,
   "id": "fa8bd380",
   "metadata": {
    "execution": {
     "iopub.execute_input": "2022-12-30T15:55:34.246615Z",
     "iopub.status.busy": "2022-12-30T15:55:34.245783Z",
     "iopub.status.idle": "2022-12-30T15:55:34.253563Z",
     "shell.execute_reply": "2022-12-30T15:55:34.252510Z"
    },
    "papermill": {
     "duration": 0.014439,
     "end_time": "2022-12-30T15:55:34.255661",
     "exception": false,
     "start_time": "2022-12-30T15:55:34.241222",
     "status": "completed"
    },
    "tags": []
   },
   "outputs": [
    {
     "data": {
      "text/plain": [
       "speed         0\n",
       "car_age       0\n",
       "experience    0\n",
       "risk          0\n",
       "dtype: int64"
      ]
     },
     "execution_count": 7,
     "metadata": {},
     "output_type": "execute_result"
    }
   ],
   "source": [
    "df.isnull().sum()"
   ]
  },
  {
   "cell_type": "code",
   "execution_count": 8,
   "id": "ca1583e4",
   "metadata": {
    "execution": {
     "iopub.execute_input": "2022-12-30T15:55:34.265223Z",
     "iopub.status.busy": "2022-12-30T15:55:34.264342Z",
     "iopub.status.idle": "2022-12-30T15:55:34.268937Z",
     "shell.execute_reply": "2022-12-30T15:55:34.267884Z"
    },
    "papermill": {
     "duration": 0.011433,
     "end_time": "2022-12-30T15:55:34.271017",
     "exception": false,
     "start_time": "2022-12-30T15:55:34.259584",
     "status": "completed"
    },
    "tags": []
   },
   "outputs": [],
   "source": [
    "reg = linear_model.LinearRegression()"
   ]
  },
  {
   "cell_type": "code",
   "execution_count": 9,
   "id": "73a8929d",
   "metadata": {
    "execution": {
     "iopub.execute_input": "2022-12-30T15:55:34.280208Z",
     "iopub.status.busy": "2022-12-30T15:55:34.279419Z",
     "iopub.status.idle": "2022-12-30T15:55:34.305370Z",
     "shell.execute_reply": "2022-12-30T15:55:34.304323Z"
    },
    "papermill": {
     "duration": 0.032197,
     "end_time": "2022-12-30T15:55:34.307270",
     "exception": false,
     "start_time": "2022-12-30T15:55:34.275073",
     "status": "completed"
    },
    "tags": []
   },
   "outputs": [
    {
     "data": {
      "text/plain": [
       "LinearRegression()"
      ]
     },
     "execution_count": 9,
     "metadata": {},
     "output_type": "execute_result"
    }
   ],
   "source": [
    "reg.fit(df[['speed','car_age','experience']],df.risk)"
   ]
  },
  {
   "cell_type": "code",
   "execution_count": 10,
   "id": "63da41fe",
   "metadata": {
    "execution": {
     "iopub.execute_input": "2022-12-30T15:55:34.316664Z",
     "iopub.status.busy": "2022-12-30T15:55:34.315820Z",
     "iopub.status.idle": "2022-12-30T15:55:34.325438Z",
     "shell.execute_reply": "2022-12-30T15:55:34.324511Z"
    },
    "papermill": {
     "duration": 0.016279,
     "end_time": "2022-12-30T15:55:34.327397",
     "exception": false,
     "start_time": "2022-12-30T15:55:34.311118",
     "status": "completed"
    },
    "tags": []
   },
   "outputs": [
    {
     "data": {
      "text/plain": [
       "0.8753123566971532"
      ]
     },
     "execution_count": 10,
     "metadata": {},
     "output_type": "execute_result"
    }
   ],
   "source": [
    "reg.score(df[['speed','car_age','experience']],df.risk)"
   ]
  },
  {
   "cell_type": "code",
   "execution_count": 11,
   "id": "aa8415a2",
   "metadata": {
    "execution": {
     "iopub.execute_input": "2022-12-30T15:55:34.336755Z",
     "iopub.status.busy": "2022-12-30T15:55:34.336184Z",
     "iopub.status.idle": "2022-12-30T15:55:34.345978Z",
     "shell.execute_reply": "2022-12-30T15:55:34.344294Z"
    },
    "papermill": {
     "duration": 0.01695,
     "end_time": "2022-12-30T15:55:34.348117",
     "exception": false,
     "start_time": "2022-12-30T15:55:34.331167",
     "status": "completed"
    },
    "tags": []
   },
   "outputs": [
    {
     "name": "stderr",
     "output_type": "stream",
     "text": [
      "/opt/conda/lib/python3.7/site-packages/sklearn/base.py:451: UserWarning: X does not have valid feature names, but LinearRegression was fitted with feature names\n",
      "  \"X does not have valid feature names, but\"\n"
     ]
    },
    {
     "data": {
      "text/plain": [
       "array([59.11978273])"
      ]
     },
     "execution_count": 11,
     "metadata": {},
     "output_type": "execute_result"
    }
   ],
   "source": [
    "reg.predict([[100,7,3]])"
   ]
  },
  {
   "cell_type": "code",
   "execution_count": 12,
   "id": "bb877bdc",
   "metadata": {
    "execution": {
     "iopub.execute_input": "2022-12-30T15:55:34.358321Z",
     "iopub.status.busy": "2022-12-30T15:55:34.357535Z",
     "iopub.status.idle": "2022-12-30T15:55:34.363638Z",
     "shell.execute_reply": "2022-12-30T15:55:34.362658Z"
    },
    "papermill": {
     "duration": 0.013255,
     "end_time": "2022-12-30T15:55:34.365687",
     "exception": false,
     "start_time": "2022-12-30T15:55:34.352432",
     "status": "completed"
    },
    "tags": []
   },
   "outputs": [
    {
     "data": {
      "text/plain": [
       "array([ 0.33059217,  1.61053246, -6.20772074])"
      ]
     },
     "execution_count": 12,
     "metadata": {},
     "output_type": "execute_result"
    }
   ],
   "source": [
    "reg.coef_"
   ]
  },
  {
   "cell_type": "code",
   "execution_count": 13,
   "id": "e40935a2",
   "metadata": {
    "execution": {
     "iopub.execute_input": "2022-12-30T15:55:34.376863Z",
     "iopub.status.busy": "2022-12-30T15:55:34.375477Z",
     "iopub.status.idle": "2022-12-30T15:55:34.382163Z",
     "shell.execute_reply": "2022-12-30T15:55:34.381101Z"
    },
    "papermill": {
     "duration": 0.014282,
     "end_time": "2022-12-30T15:55:34.384379",
     "exception": false,
     "start_time": "2022-12-30T15:55:34.370097",
     "status": "completed"
    },
    "tags": []
   },
   "outputs": [
    {
     "data": {
      "text/plain": [
       "33.41000091043591"
      ]
     },
     "execution_count": 13,
     "metadata": {},
     "output_type": "execute_result"
    }
   ],
   "source": [
    "reg.intercept_"
   ]
  },
  {
   "cell_type": "code",
   "execution_count": 14,
   "id": "766b9b02",
   "metadata": {
    "execution": {
     "iopub.execute_input": "2022-12-30T15:55:34.394978Z",
     "iopub.status.busy": "2022-12-30T15:55:34.394095Z",
     "iopub.status.idle": "2022-12-30T15:55:34.401002Z",
     "shell.execute_reply": "2022-12-30T15:55:34.399821Z"
    },
    "papermill": {
     "duration": 0.014211,
     "end_time": "2022-12-30T15:55:34.403132",
     "exception": false,
     "start_time": "2022-12-30T15:55:34.388921",
     "status": "completed"
    },
    "tags": []
   },
   "outputs": [
    {
     "data": {
      "text/plain": [
       "59.119782910435916"
      ]
     },
     "execution_count": 14,
     "metadata": {},
     "output_type": "execute_result"
    }
   ],
   "source": [
    "y = (0.33059217*100)+(1.61053246*7)+((-6.20772074)*3)+33.41000091043591\n",
    "y"
   ]
  }
 ],
 "metadata": {
  "kernelspec": {
   "display_name": "Python 3",
   "language": "python",
   "name": "python3"
  },
  "language_info": {
   "codemirror_mode": {
    "name": "ipython",
    "version": 3
   },
   "file_extension": ".py",
   "mimetype": "text/x-python",
   "name": "python",
   "nbconvert_exporter": "python",
   "pygments_lexer": "ipython3",
   "version": "3.7.12"
  },
  "papermill": {
   "default_parameters": {},
   "duration": 9.950101,
   "end_time": "2022-12-30T15:55:35.129964",
   "environment_variables": {},
   "exception": null,
   "input_path": "__notebook__.ipynb",
   "output_path": "__notebook__.ipynb",
   "parameters": {},
   "start_time": "2022-12-30T15:55:25.179863",
   "version": "2.3.4"
  }
 },
 "nbformat": 4,
 "nbformat_minor": 5
}
