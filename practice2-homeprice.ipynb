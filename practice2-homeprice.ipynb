{
 "cells": [
  {
   "cell_type": "code",
   "execution_count": 1,
   "id": "007d10d4",
   "metadata": {
    "_cell_guid": "b1076dfc-b9ad-4769-8c92-a6c4dae69d19",
    "_uuid": "8f2839f25d086af736a60e9eeb907d3b93b6e0e5",
    "execution": {
     "iopub.execute_input": "2022-12-29T09:25:01.200669Z",
     "iopub.status.busy": "2022-12-29T09:25:01.199534Z",
     "iopub.status.idle": "2022-12-29T09:25:01.214550Z",
     "shell.execute_reply": "2022-12-29T09:25:01.213242Z"
    },
    "papermill": {
     "duration": 0.031804,
     "end_time": "2022-12-29T09:25:01.217437",
     "exception": false,
     "start_time": "2022-12-29T09:25:01.185633",
     "status": "completed"
    },
    "tags": []
   },
   "outputs": [],
   "source": [
    "import numpy as np # linear algebra\n",
    "import pandas as pd # data processing, CSV file I/O (e.g. pd.read_csv)\n",
    "import matplotlib.pyplot as plt"
   ]
  },
  {
   "cell_type": "code",
   "execution_count": 2,
   "id": "a708e3e8",
   "metadata": {
    "execution": {
     "iopub.execute_input": "2022-12-29T09:25:01.235291Z",
     "iopub.status.busy": "2022-12-29T09:25:01.234272Z",
     "iopub.status.idle": "2022-12-29T09:25:01.258042Z",
     "shell.execute_reply": "2022-12-29T09:25:01.256841Z"
    },
    "papermill": {
     "duration": 0.036817,
     "end_time": "2022-12-29T09:25:01.261528",
     "exception": false,
     "start_time": "2022-12-29T09:25:01.224711",
     "status": "completed"
    },
    "tags": []
   },
   "outputs": [],
   "source": [
    "df = pd.read_csv('/kaggle/input/dataset-for-home-prices-in-dhaka-city/homeprices.csv')"
   ]
  },
  {
   "cell_type": "code",
   "execution_count": 3,
   "id": "450c3127",
   "metadata": {
    "_cell_guid": "b1076dfc-b9ad-4769-8c92-a6c4dae69d19",
    "_uuid": "8f2839f25d086af736a60e9eeb907d3b93b6e0e5",
    "execution": {
     "iopub.execute_input": "2022-12-29T09:25:01.282610Z",
     "iopub.status.busy": "2022-12-29T09:25:01.281302Z",
     "iopub.status.idle": "2022-12-29T09:25:01.317122Z",
     "shell.execute_reply": "2022-12-29T09:25:01.315715Z"
    },
    "papermill": {
     "duration": 0.04944,
     "end_time": "2022-12-29T09:25:01.322094",
     "exception": false,
     "start_time": "2022-12-29T09:25:01.272654",
     "status": "completed"
    },
    "tags": []
   },
   "outputs": [
    {
     "data": {
      "text/html": [
       "<div>\n",
       "<style scoped>\n",
       "    .dataframe tbody tr th:only-of-type {\n",
       "        vertical-align: middle;\n",
       "    }\n",
       "\n",
       "    .dataframe tbody tr th {\n",
       "        vertical-align: top;\n",
       "    }\n",
       "\n",
       "    .dataframe thead th {\n",
       "        text-align: right;\n",
       "    }\n",
       "</style>\n",
       "<table border=\"1\" class=\"dataframe\">\n",
       "  <thead>\n",
       "    <tr style=\"text-align: right;\">\n",
       "      <th></th>\n",
       "      <th>area</th>\n",
       "      <th>price</th>\n",
       "    </tr>\n",
       "  </thead>\n",
       "  <tbody>\n",
       "    <tr>\n",
       "      <th>0</th>\n",
       "      <td>2600</td>\n",
       "      <td>55000</td>\n",
       "    </tr>\n",
       "    <tr>\n",
       "      <th>1</th>\n",
       "      <td>3000</td>\n",
       "      <td>56500</td>\n",
       "    </tr>\n",
       "    <tr>\n",
       "      <th>2</th>\n",
       "      <td>3200</td>\n",
       "      <td>61000</td>\n",
       "    </tr>\n",
       "    <tr>\n",
       "      <th>3</th>\n",
       "      <td>3600</td>\n",
       "      <td>68000</td>\n",
       "    </tr>\n",
       "    <tr>\n",
       "      <th>4</th>\n",
       "      <td>4000</td>\n",
       "      <td>72000</td>\n",
       "    </tr>\n",
       "    <tr>\n",
       "      <th>5</th>\n",
       "      <td>5000</td>\n",
       "      <td>71000</td>\n",
       "    </tr>\n",
       "    <tr>\n",
       "      <th>6</th>\n",
       "      <td>2500</td>\n",
       "      <td>40000</td>\n",
       "    </tr>\n",
       "    <tr>\n",
       "      <th>7</th>\n",
       "      <td>2700</td>\n",
       "      <td>38000</td>\n",
       "    </tr>\n",
       "    <tr>\n",
       "      <th>8</th>\n",
       "      <td>1200</td>\n",
       "      <td>17000</td>\n",
       "    </tr>\n",
       "    <tr>\n",
       "      <th>9</th>\n",
       "      <td>1000</td>\n",
       "      <td>17900</td>\n",
       "    </tr>\n",
       "  </tbody>\n",
       "</table>\n",
       "</div>"
      ],
      "text/plain": [
       "   area  price\n",
       "0  2600  55000\n",
       "1  3000  56500\n",
       "2  3200  61000\n",
       "3  3600  68000\n",
       "4  4000  72000\n",
       "5  5000  71000\n",
       "6  2500  40000\n",
       "7  2700  38000\n",
       "8  1200  17000\n",
       "9  1000  17900"
      ]
     },
     "execution_count": 3,
     "metadata": {},
     "output_type": "execute_result"
    }
   ],
   "source": [
    "df"
   ]
  },
  {
   "cell_type": "code",
   "execution_count": 4,
   "id": "37086858",
   "metadata": {
    "execution": {
     "iopub.execute_input": "2022-12-29T09:25:01.345755Z",
     "iopub.status.busy": "2022-12-29T09:25:01.344338Z",
     "iopub.status.idle": "2022-12-29T09:25:01.375585Z",
     "shell.execute_reply": "2022-12-29T09:25:01.374491Z"
    },
    "papermill": {
     "duration": 0.047501,
     "end_time": "2022-12-29T09:25:01.379272",
     "exception": false,
     "start_time": "2022-12-29T09:25:01.331771",
     "status": "completed"
    },
    "tags": []
   },
   "outputs": [
    {
     "name": "stdout",
     "output_type": "stream",
     "text": [
      "<class 'pandas.core.frame.DataFrame'>\n",
      "RangeIndex: 10 entries, 0 to 9\n",
      "Data columns (total 2 columns):\n",
      " #   Column  Non-Null Count  Dtype\n",
      "---  ------  --------------  -----\n",
      " 0   area    10 non-null     int64\n",
      " 1   price   10 non-null     int64\n",
      "dtypes: int64(2)\n",
      "memory usage: 288.0 bytes\n"
     ]
    }
   ],
   "source": [
    "df.info()"
   ]
  },
  {
   "cell_type": "code",
   "execution_count": 5,
   "id": "c1ba0f6c",
   "metadata": {
    "execution": {
     "iopub.execute_input": "2022-12-29T09:25:01.398178Z",
     "iopub.status.busy": "2022-12-29T09:25:01.397279Z",
     "iopub.status.idle": "2022-12-29T09:25:01.404846Z",
     "shell.execute_reply": "2022-12-29T09:25:01.403855Z"
    },
    "papermill": {
     "duration": 0.01995,
     "end_time": "2022-12-29T09:25:01.407195",
     "exception": false,
     "start_time": "2022-12-29T09:25:01.387245",
     "status": "completed"
    },
    "tags": []
   },
   "outputs": [
    {
     "data": {
      "text/plain": [
       "(10, 2)"
      ]
     },
     "execution_count": 5,
     "metadata": {},
     "output_type": "execute_result"
    }
   ],
   "source": [
    "df.shape"
   ]
  },
  {
   "cell_type": "code",
   "execution_count": 6,
   "id": "4a91955c",
   "metadata": {
    "execution": {
     "iopub.execute_input": "2022-12-29T09:25:01.426268Z",
     "iopub.status.busy": "2022-12-29T09:25:01.425569Z",
     "iopub.status.idle": "2022-12-29T09:25:01.446486Z",
     "shell.execute_reply": "2022-12-29T09:25:01.445213Z"
    },
    "papermill": {
     "duration": 0.03434,
     "end_time": "2022-12-29T09:25:01.449570",
     "exception": false,
     "start_time": "2022-12-29T09:25:01.415230",
     "status": "completed"
    },
    "tags": []
   },
   "outputs": [
    {
     "data": {
      "text/html": [
       "<div>\n",
       "<style scoped>\n",
       "    .dataframe tbody tr th:only-of-type {\n",
       "        vertical-align: middle;\n",
       "    }\n",
       "\n",
       "    .dataframe tbody tr th {\n",
       "        vertical-align: top;\n",
       "    }\n",
       "\n",
       "    .dataframe thead th {\n",
       "        text-align: right;\n",
       "    }\n",
       "</style>\n",
       "<table border=\"1\" class=\"dataframe\">\n",
       "  <thead>\n",
       "    <tr style=\"text-align: right;\">\n",
       "      <th></th>\n",
       "      <th>area</th>\n",
       "      <th>price</th>\n",
       "    </tr>\n",
       "  </thead>\n",
       "  <tbody>\n",
       "    <tr>\n",
       "      <th>count</th>\n",
       "      <td>10.000000</td>\n",
       "      <td>10.000000</td>\n",
       "    </tr>\n",
       "    <tr>\n",
       "      <th>mean</th>\n",
       "      <td>2880.000000</td>\n",
       "      <td>49640.000000</td>\n",
       "    </tr>\n",
       "    <tr>\n",
       "      <th>std</th>\n",
       "      <td>1201.665511</td>\n",
       "      <td>20546.327058</td>\n",
       "    </tr>\n",
       "    <tr>\n",
       "      <th>min</th>\n",
       "      <td>1000.000000</td>\n",
       "      <td>17000.000000</td>\n",
       "    </tr>\n",
       "    <tr>\n",
       "      <th>25%</th>\n",
       "      <td>2525.000000</td>\n",
       "      <td>38500.000000</td>\n",
       "    </tr>\n",
       "    <tr>\n",
       "      <th>50%</th>\n",
       "      <td>2850.000000</td>\n",
       "      <td>55750.000000</td>\n",
       "    </tr>\n",
       "    <tr>\n",
       "      <th>75%</th>\n",
       "      <td>3500.000000</td>\n",
       "      <td>66250.000000</td>\n",
       "    </tr>\n",
       "    <tr>\n",
       "      <th>max</th>\n",
       "      <td>5000.000000</td>\n",
       "      <td>72000.000000</td>\n",
       "    </tr>\n",
       "  </tbody>\n",
       "</table>\n",
       "</div>"
      ],
      "text/plain": [
       "              area         price\n",
       "count    10.000000     10.000000\n",
       "mean   2880.000000  49640.000000\n",
       "std    1201.665511  20546.327058\n",
       "min    1000.000000  17000.000000\n",
       "25%    2525.000000  38500.000000\n",
       "50%    2850.000000  55750.000000\n",
       "75%    3500.000000  66250.000000\n",
       "max    5000.000000  72000.000000"
      ]
     },
     "execution_count": 6,
     "metadata": {},
     "output_type": "execute_result"
    }
   ],
   "source": [
    "df.describe()"
   ]
  },
  {
   "cell_type": "code",
   "execution_count": 7,
   "id": "26453b37",
   "metadata": {
    "execution": {
     "iopub.execute_input": "2022-12-29T09:25:01.475638Z",
     "iopub.status.busy": "2022-12-29T09:25:01.474374Z",
     "iopub.status.idle": "2022-12-29T09:25:01.491473Z",
     "shell.execute_reply": "2022-12-29T09:25:01.487519Z"
    },
    "papermill": {
     "duration": 0.033995,
     "end_time": "2022-12-29T09:25:01.495005",
     "exception": false,
     "start_time": "2022-12-29T09:25:01.461010",
     "status": "completed"
    },
    "tags": []
   },
   "outputs": [
    {
     "data": {
      "text/plain": [
       "area     0\n",
       "price    0\n",
       "dtype: int64"
      ]
     },
     "execution_count": 7,
     "metadata": {},
     "output_type": "execute_result"
    }
   ],
   "source": [
    "df.isnull().sum()"
   ]
  },
  {
   "cell_type": "markdown",
   "id": "8cc33a84",
   "metadata": {
    "papermill": {
     "duration": 0.011379,
     "end_time": "2022-12-29T09:25:01.518286",
     "exception": false,
     "start_time": "2022-12-29T09:25:01.506907",
     "status": "completed"
    },
    "tags": []
   },
   "source": []
  },
  {
   "cell_type": "markdown",
   "id": "237d74e4",
   "metadata": {
    "papermill": {
     "duration": 0.007559,
     "end_time": "2022-12-29T09:25:01.533798",
     "exception": false,
     "start_time": "2022-12-29T09:25:01.526239",
     "status": "completed"
    },
    "tags": []
   },
   "source": [
    "**Vidulization**"
   ]
  },
  {
   "cell_type": "code",
   "execution_count": 8,
   "id": "f5ac4f56",
   "metadata": {
    "execution": {
     "iopub.execute_input": "2022-12-29T09:25:01.552167Z",
     "iopub.status.busy": "2022-12-29T09:25:01.551286Z",
     "iopub.status.idle": "2022-12-29T09:25:01.848343Z",
     "shell.execute_reply": "2022-12-29T09:25:01.847159Z"
    },
    "papermill": {
     "duration": 0.30922,
     "end_time": "2022-12-29T09:25:01.850961",
     "exception": false,
     "start_time": "2022-12-29T09:25:01.541741",
     "status": "completed"
    },
    "tags": []
   },
   "outputs": [
    {
     "data": {
      "text/plain": [
       "Text(0.5, 1.0, 'Dhaka House Price')"
      ]
     },
     "execution_count": 8,
     "metadata": {},
     "output_type": "execute_result"
    },
    {
     "data": {
      "image/png": "[encoded data removed]",
      "text/plain": [
       "<Figure size 432x288 with 1 Axes>"
      ]
     },
     "metadata": {
      "needs_background": "light"
     },
     "output_type": "display_data"
    }
   ],
   "source": [
    "plt.scatter(df['area'],df['price'],marker='*',color='b')\n",
    "plt.xlabel('Area in Squire ft')\n",
    "plt.ylabel('Price in tk')\n",
    "plt.title('Dhaka House Price')\n"
   ]
  },
  {
   "cell_type": "code",
   "execution_count": 9,
   "id": "4ce280df",
   "metadata": {
    "execution": {
     "iopub.execute_input": "2022-12-29T09:25:01.869797Z",
     "iopub.status.busy": "2022-12-29T09:25:01.869365Z",
     "iopub.status.idle": "2022-12-29T09:25:01.880309Z",
     "shell.execute_reply": "2022-12-29T09:25:01.878966Z"
    },
    "papermill": {
     "duration": 0.023215,
     "end_time": "2022-12-29T09:25:01.882838",
     "exception": false,
     "start_time": "2022-12-29T09:25:01.859623",
     "status": "completed"
    },
    "tags": []
   },
   "outputs": [
    {
     "data": {
      "text/html": [
       "<div>\n",
       "<style scoped>\n",
       "    .dataframe tbody tr th:only-of-type {\n",
       "        vertical-align: middle;\n",
       "    }\n",
       "\n",
       "    .dataframe tbody tr th {\n",
       "        vertical-align: top;\n",
       "    }\n",
       "\n",
       "    .dataframe thead th {\n",
       "        text-align: right;\n",
       "    }\n",
       "</style>\n",
       "<table border=\"1\" class=\"dataframe\">\n",
       "  <thead>\n",
       "    <tr style=\"text-align: right;\">\n",
       "      <th></th>\n",
       "      <th>area</th>\n",
       "    </tr>\n",
       "  </thead>\n",
       "  <tbody>\n",
       "    <tr>\n",
       "      <th>0</th>\n",
       "      <td>2600</td>\n",
       "    </tr>\n",
       "    <tr>\n",
       "      <th>1</th>\n",
       "      <td>3000</td>\n",
       "    </tr>\n",
       "    <tr>\n",
       "      <th>2</th>\n",
       "      <td>3200</td>\n",
       "    </tr>\n",
       "    <tr>\n",
       "      <th>3</th>\n",
       "      <td>3600</td>\n",
       "    </tr>\n",
       "    <tr>\n",
       "      <th>4</th>\n",
       "      <td>4000</td>\n",
       "    </tr>\n",
       "    <tr>\n",
       "      <th>5</th>\n",
       "      <td>5000</td>\n",
       "    </tr>\n",
       "    <tr>\n",
       "      <th>6</th>\n",
       "      <td>2500</td>\n",
       "    </tr>\n",
       "    <tr>\n",
       "      <th>7</th>\n",
       "      <td>2700</td>\n",
       "    </tr>\n",
       "    <tr>\n",
       "      <th>8</th>\n",
       "      <td>1200</td>\n",
       "    </tr>\n",
       "    <tr>\n",
       "      <th>9</th>\n",
       "      <td>1000</td>\n",
       "    </tr>\n",
       "  </tbody>\n",
       "</table>\n",
       "</div>"
      ],
      "text/plain": [
       "   area\n",
       "0  2600\n",
       "1  3000\n",
       "2  3200\n",
       "3  3600\n",
       "4  4000\n",
       "5  5000\n",
       "6  2500\n",
       "7  2700\n",
       "8  1200\n",
       "9  1000"
      ]
     },
     "execution_count": 9,
     "metadata": {},
     "output_type": "execute_result"
    }
   ],
   "source": [
    "x = df[['area']]\n",
    "x"
   ]
  },
  {
   "cell_type": "code",
   "execution_count": 10,
   "id": "c257b982",
   "metadata": {
    "execution": {
     "iopub.execute_input": "2022-12-29T09:25:01.901236Z",
     "iopub.status.busy": "2022-12-29T09:25:01.900839Z",
     "iopub.status.idle": "2022-12-29T09:25:01.908824Z",
     "shell.execute_reply": "2022-12-29T09:25:01.907615Z"
    },
    "papermill": {
     "duration": 0.019874,
     "end_time": "2022-12-29T09:25:01.911098",
     "exception": false,
     "start_time": "2022-12-29T09:25:01.891224",
     "status": "completed"
    },
    "tags": []
   },
   "outputs": [
    {
     "data": {
      "text/plain": [
       "0    55000\n",
       "1    56500\n",
       "2    61000\n",
       "3    68000\n",
       "4    72000\n",
       "5    71000\n",
       "6    40000\n",
       "7    38000\n",
       "8    17000\n",
       "9    17900\n",
       "Name: price, dtype: int64"
      ]
     },
     "execution_count": 10,
     "metadata": {},
     "output_type": "execute_result"
    }
   ],
   "source": [
    "y = df['price']\n",
    "y"
   ]
  },
  {
   "cell_type": "code",
   "execution_count": 11,
   "id": "da9d069c",
   "metadata": {
    "execution": {
     "iopub.execute_input": "2022-12-29T09:25:01.929546Z",
     "iopub.status.busy": "2022-12-29T09:25:01.929118Z",
     "iopub.status.idle": "2022-12-29T09:25:03.153461Z",
     "shell.execute_reply": "2022-12-29T09:25:03.152203Z"
    },
    "papermill": {
     "duration": 1.236735,
     "end_time": "2022-12-29T09:25:03.156325",
     "exception": false,
     "start_time": "2022-12-29T09:25:01.919590",
     "status": "completed"
    },
    "tags": []
   },
   "outputs": [],
   "source": [
    "import sklearn\n",
    "from sklearn.model_selection import train_test_split"
   ]
  },
  {
   "cell_type": "code",
   "execution_count": 12,
   "id": "d092b077",
   "metadata": {
    "execution": {
     "iopub.execute_input": "2022-12-29T09:25:03.176168Z",
     "iopub.status.busy": "2022-12-29T09:25:03.174994Z",
     "iopub.status.idle": "2022-12-29T09:25:03.182213Z",
     "shell.execute_reply": "2022-12-29T09:25:03.181433Z"
    },
    "papermill": {
     "duration": 0.01994,
     "end_time": "2022-12-29T09:25:03.184685",
     "exception": false,
     "start_time": "2022-12-29T09:25:03.164745",
     "status": "completed"
    },
    "tags": []
   },
   "outputs": [],
   "source": [
    "x_train,x_test,y_train,y_test = train_test_split(x,y,test_size=.30,random_state=1)"
   ]
  },
  {
   "cell_type": "code",
   "execution_count": 13,
   "id": "2d7cf7a6",
   "metadata": {
    "execution": {
     "iopub.execute_input": "2022-12-29T09:25:03.203801Z",
     "iopub.status.busy": "2022-12-29T09:25:03.202875Z",
     "iopub.status.idle": "2022-12-29T09:25:03.212492Z",
     "shell.execute_reply": "2022-12-29T09:25:03.211514Z"
    },
    "papermill": {
     "duration": 0.02198,
     "end_time": "2022-12-29T09:25:03.214997",
     "exception": false,
     "start_time": "2022-12-29T09:25:03.193017",
     "status": "completed"
    },
    "tags": []
   },
   "outputs": [
    {
     "data": {
      "text/html": [
       "<div>\n",
       "<style scoped>\n",
       "    .dataframe tbody tr th:only-of-type {\n",
       "        vertical-align: middle;\n",
       "    }\n",
       "\n",
       "    .dataframe tbody tr th {\n",
       "        vertical-align: top;\n",
       "    }\n",
       "\n",
       "    .dataframe thead th {\n",
       "        text-align: right;\n",
       "    }\n",
       "</style>\n",
       "<table border=\"1\" class=\"dataframe\">\n",
       "  <thead>\n",
       "    <tr style=\"text-align: right;\">\n",
       "      <th></th>\n",
       "      <th>area</th>\n",
       "    </tr>\n",
       "  </thead>\n",
       "  <tbody>\n",
       "    <tr>\n",
       "      <th>4</th>\n",
       "      <td>4000</td>\n",
       "    </tr>\n",
       "    <tr>\n",
       "      <th>0</th>\n",
       "      <td>2600</td>\n",
       "    </tr>\n",
       "    <tr>\n",
       "      <th>3</th>\n",
       "      <td>3600</td>\n",
       "    </tr>\n",
       "    <tr>\n",
       "      <th>1</th>\n",
       "      <td>3000</td>\n",
       "    </tr>\n",
       "    <tr>\n",
       "      <th>7</th>\n",
       "      <td>2700</td>\n",
       "    </tr>\n",
       "    <tr>\n",
       "      <th>8</th>\n",
       "      <td>1200</td>\n",
       "    </tr>\n",
       "    <tr>\n",
       "      <th>5</th>\n",
       "      <td>5000</td>\n",
       "    </tr>\n",
       "  </tbody>\n",
       "</table>\n",
       "</div>"
      ],
      "text/plain": [
       "   area\n",
       "4  4000\n",
       "0  2600\n",
       "3  3600\n",
       "1  3000\n",
       "7  2700\n",
       "8  1200\n",
       "5  5000"
      ]
     },
     "execution_count": 13,
     "metadata": {},
     "output_type": "execute_result"
    }
   ],
   "source": [
    "x_train"
   ]
  },
  {
   "cell_type": "code",
   "execution_count": 14,
   "id": "f810ec4f",
   "metadata": {
    "execution": {
     "iopub.execute_input": "2022-12-29T09:25:03.234982Z",
     "iopub.status.busy": "2022-12-29T09:25:03.233909Z",
     "iopub.status.idle": "2022-12-29T09:25:03.241329Z",
     "shell.execute_reply": "2022-12-29T09:25:03.240489Z"
    },
    "papermill": {
     "duration": 0.01941,
     "end_time": "2022-12-29T09:25:03.243281",
     "exception": false,
     "start_time": "2022-12-29T09:25:03.223871",
     "status": "completed"
    },
    "tags": []
   },
   "outputs": [
    {
     "data": {
      "text/plain": [
       "2    61000\n",
       "9    17900\n",
       "6    40000\n",
       "Name: price, dtype: int64"
      ]
     },
     "execution_count": 14,
     "metadata": {},
     "output_type": "execute_result"
    }
   ],
   "source": [
    "y_test"
   ]
  },
  {
   "cell_type": "code",
   "execution_count": 15,
   "id": "25e4007a",
   "metadata": {
    "execution": {
     "iopub.execute_input": "2022-12-29T09:25:03.262742Z",
     "iopub.status.busy": "2022-12-29T09:25:03.262187Z",
     "iopub.status.idle": "2022-12-29T09:25:03.352220Z",
     "shell.execute_reply": "2022-12-29T09:25:03.350622Z"
    },
    "papermill": {
     "duration": 0.104663,
     "end_time": "2022-12-29T09:25:03.356609",
     "exception": false,
     "start_time": "2022-12-29T09:25:03.251946",
     "status": "completed"
    },
    "tags": []
   },
   "outputs": [],
   "source": [
    "from sklearn.linear_model import LinearRegression"
   ]
  },
  {
   "cell_type": "code",
   "execution_count": 16,
   "id": "12b98d3e",
   "metadata": {
    "execution": {
     "iopub.execute_input": "2022-12-29T09:25:03.387801Z",
     "iopub.status.busy": "2022-12-29T09:25:03.386685Z",
     "iopub.status.idle": "2022-12-29T09:25:03.393640Z",
     "shell.execute_reply": "2022-12-29T09:25:03.391789Z"
    },
    "papermill": {
     "duration": 0.024634,
     "end_time": "2022-12-29T09:25:03.396658",
     "exception": false,
     "start_time": "2022-12-29T09:25:03.372024",
     "status": "completed"
    },
    "tags": []
   },
   "outputs": [],
   "source": [
    "model = LinearRegression()"
   ]
  },
  {
   "cell_type": "code",
   "execution_count": 17,
   "id": "1aa6f614",
   "metadata": {
    "execution": {
     "iopub.execute_input": "2022-12-29T09:25:03.420005Z",
     "iopub.status.busy": "2022-12-29T09:25:03.418858Z",
     "iopub.status.idle": "2022-12-29T09:25:03.448986Z",
     "shell.execute_reply": "2022-12-29T09:25:03.447813Z"
    },
    "papermill": {
     "duration": 0.045658,
     "end_time": "2022-12-29T09:25:03.452357",
     "exception": false,
     "start_time": "2022-12-29T09:25:03.406699",
     "status": "completed"
    },
    "tags": []
   },
   "outputs": [
    {
     "data": {
      "text/plain": [
       "LinearRegression()"
      ]
     },
     "execution_count": 17,
     "metadata": {},
     "output_type": "execute_result"
    }
   ],
   "source": [
    "model.fit(x_train,y_train)"
   ]
  },
  {
   "cell_type": "code",
   "execution_count": 18,
   "id": "9032cb6f",
   "metadata": {
    "execution": {
     "iopub.execute_input": "2022-12-29T09:25:03.473963Z",
     "iopub.status.busy": "2022-12-29T09:25:03.473321Z",
     "iopub.status.idle": "2022-12-29T09:25:03.481630Z",
     "shell.execute_reply": "2022-12-29T09:25:03.479952Z"
    },
    "papermill": {
     "duration": 0.021894,
     "end_time": "2022-12-29T09:25:03.484206",
     "exception": false,
     "start_time": "2022-12-29T09:25:03.462312",
     "status": "completed"
    },
    "tags": []
   },
   "outputs": [
    {
     "data": {
      "text/plain": [
       "2    61000\n",
       "9    17900\n",
       "6    40000\n",
       "Name: price, dtype: int64"
      ]
     },
     "execution_count": 18,
     "metadata": {},
     "output_type": "execute_result"
    }
   ],
   "source": [
    "y_test"
   ]
  },
  {
   "cell_type": "code",
   "execution_count": 19,
   "id": "6e862d87",
   "metadata": {
    "execution": {
     "iopub.execute_input": "2022-12-29T09:25:03.505810Z",
     "iopub.status.busy": "2022-12-29T09:25:03.504668Z",
     "iopub.status.idle": "2022-12-29T09:25:03.517100Z",
     "shell.execute_reply": "2022-12-29T09:25:03.515589Z"
    },
    "papermill": {
     "duration": 0.026222,
     "end_time": "2022-12-29T09:25:03.520094",
     "exception": false,
     "start_time": "2022-12-29T09:25:03.493872",
     "status": "completed"
    },
    "tags": []
   },
   "outputs": [
    {
     "data": {
      "text/plain": [
       "array([54577.95521897, 21242.92064537, 43971.35330919])"
      ]
     },
     "execution_count": 19,
     "metadata": {},
     "output_type": "execute_result"
    }
   ],
   "source": [
    "model.predict(x_test)"
   ]
  },
  {
   "cell_type": "code",
   "execution_count": 20,
   "id": "cc246237",
   "metadata": {
    "execution": {
     "iopub.execute_input": "2022-12-29T09:25:03.541499Z",
     "iopub.status.busy": "2022-12-29T09:25:03.541071Z",
     "iopub.status.idle": "2022-12-29T09:25:03.733677Z",
     "shell.execute_reply": "2022-12-29T09:25:03.732363Z"
    },
    "papermill": {
     "duration": 0.206336,
     "end_time": "2022-12-29T09:25:03.736559",
     "exception": false,
     "start_time": "2022-12-29T09:25:03.530223",
     "status": "completed"
    },
    "tags": []
   },
   "outputs": [
    {
     "data": {
      "text/plain": [
       "[<matplotlib.lines.Line2D at 0x7fcce4540e10>]"
      ]
     },
     "execution_count": 20,
     "metadata": {},
     "output_type": "execute_result"
    },
    {
     "data": {
      "image/png": "[encoded data removed]",
      "text/plain": [
       "<Figure size 432x288 with 1 Axes>"
      ]
     },
     "metadata": {
      "needs_background": "light"
     },
     "output_type": "display_data"
    }
   ],
   "source": [
    "plt.scatter(df['area'],df['price'],marker='*',color='b')\n",
    "plt.xlabel('Area in Squire ft')\n",
    "plt.ylabel('Price in tk')\n",
    "plt.title('Dhaka House Price')\n",
    "plt.plot(df.area,model.predict(df[['area']]))"
   ]
  },
  {
   "cell_type": "code",
   "execution_count": 21,
   "id": "667a291a",
   "metadata": {
    "execution": {
     "iopub.execute_input": "2022-12-29T09:25:03.760805Z",
     "iopub.status.busy": "2022-12-29T09:25:03.760382Z",
     "iopub.status.idle": "2022-12-29T09:25:03.772046Z",
     "shell.execute_reply": "2022-12-29T09:25:03.769927Z"
    },
    "papermill": {
     "duration": 0.028786,
     "end_time": "2022-12-29T09:25:03.775519",
     "exception": false,
     "start_time": "2022-12-29T09:25:03.746733",
     "status": "completed"
    },
    "tags": []
   },
   "outputs": [
    {
     "name": "stderr",
     "output_type": "stream",
     "text": [
      "/opt/conda/lib/python3.7/site-packages/sklearn/base.py:451: UserWarning: X does not have valid feature names, but LinearRegression was fitted with feature names\n",
      "  \"X does not have valid feature names, but\"\n"
     ]
    },
    {
     "data": {
      "text/plain": [
       "array([36395.20908792])"
      ]
     },
     "execution_count": 21,
     "metadata": {},
     "output_type": "execute_result"
    }
   ],
   "source": [
    "model.predict([[2000]])"
   ]
  },
  {
   "cell_type": "code",
   "execution_count": 22,
   "id": "f9eb99f9",
   "metadata": {
    "execution": {
     "iopub.execute_input": "2022-12-29T09:25:03.797166Z",
     "iopub.status.busy": "2022-12-29T09:25:03.796771Z",
     "iopub.status.idle": "2022-12-29T09:25:03.806119Z",
     "shell.execute_reply": "2022-12-29T09:25:03.804244Z"
    },
    "papermill": {
     "duration": 0.023421,
     "end_time": "2022-12-29T09:25:03.808965",
     "exception": false,
     "start_time": "2022-12-29T09:25:03.785544",
     "status": "completed"
    },
    "tags": []
   },
   "outputs": [
    {
     "name": "stderr",
     "output_type": "stream",
     "text": [
      "/opt/conda/lib/python3.7/site-packages/sklearn/base.py:451: UserWarning: X does not have valid feature names, but LinearRegression was fitted with feature names\n",
      "  \"X does not have valid feature names, but\"\n"
     ]
    },
    {
     "data": {
      "text/plain": [
       "array([66699.785973])"
      ]
     },
     "execution_count": 22,
     "metadata": {},
     "output_type": "execute_result"
    }
   ],
   "source": [
    "model.predict([[4000]])"
   ]
  },
  {
   "cell_type": "markdown",
   "id": "27ac96b8",
   "metadata": {
    "papermill": {
     "duration": 0.00949,
     "end_time": "2022-12-29T09:25:03.828497",
     "exception": false,
     "start_time": "2022-12-29T09:25:03.819007",
     "status": "completed"
    },
    "tags": []
   },
   "source": [
    "> ***Internal Math Behind this predictiion***"
   ]
  },
  {
   "cell_type": "code",
   "execution_count": 23,
   "id": "b0fbd11c",
   "metadata": {
    "execution": {
     "iopub.execute_input": "2022-12-29T09:25:03.850153Z",
     "iopub.status.busy": "2022-12-29T09:25:03.849623Z",
     "iopub.status.idle": "2022-12-29T09:25:03.857434Z",
     "shell.execute_reply": "2022-12-29T09:25:03.856394Z"
    },
    "papermill": {
     "duration": 0.021864,
     "end_time": "2022-12-29T09:25:03.860104",
     "exception": false,
     "start_time": "2022-12-29T09:25:03.838240",
     "status": "completed"
    },
    "tags": []
   },
   "outputs": [
    {
     "data": {
      "text/plain": [
       "array([15.15228844])"
      ]
     },
     "execution_count": 23,
     "metadata": {},
     "output_type": "execute_result"
    }
   ],
   "source": [
    "#y = mx + c \n",
    "model.coef_"
   ]
  },
  {
   "cell_type": "code",
   "execution_count": 24,
   "id": "fe901608",
   "metadata": {
    "execution": {
     "iopub.execute_input": "2022-12-29T09:25:03.883561Z",
     "iopub.status.busy": "2022-12-29T09:25:03.883131Z",
     "iopub.status.idle": "2022-12-29T09:25:03.892745Z",
     "shell.execute_reply": "2022-12-29T09:25:03.891192Z"
    },
    "papermill": {
     "duration": 0.024916,
     "end_time": "2022-12-29T09:25:03.895989",
     "exception": false,
     "start_time": "2022-12-29T09:25:03.871073",
     "status": "completed"
    },
    "tags": []
   },
   "outputs": [
    {
     "data": {
      "text/plain": [
       "6090.632202831752"
      ]
     },
     "execution_count": 24,
     "metadata": {},
     "output_type": "execute_result"
    }
   ],
   "source": [
    "model.intercept_"
   ]
  },
  {
   "cell_type": "code",
   "execution_count": 25,
   "id": "d17b0b08",
   "metadata": {
    "execution": {
     "iopub.execute_input": "2022-12-29T09:25:03.922099Z",
     "iopub.status.busy": "2022-12-29T09:25:03.921696Z",
     "iopub.status.idle": "2022-12-29T09:25:03.931362Z",
     "shell.execute_reply": "2022-12-29T09:25:03.929979Z"
    },
    "papermill": {
     "duration": 0.025205,
     "end_time": "2022-12-29T09:25:03.934157",
     "exception": false,
     "start_time": "2022-12-29T09:25:03.908952",
     "status": "completed"
    },
    "tags": []
   },
   "outputs": [
    {
     "data": {
      "text/plain": [
       "66699.78596283175"
      ]
     },
     "execution_count": 25,
     "metadata": {},
     "output_type": "execute_result"
    }
   ],
   "source": [
    "y = 15.15228844 * 4000 + 6090.632202831752\n",
    "y"
   ]
  },
  {
   "cell_type": "code",
   "execution_count": 26,
   "id": "51e9db18",
   "metadata": {
    "execution": {
     "iopub.execute_input": "2022-12-29T09:25:03.957602Z",
     "iopub.status.busy": "2022-12-29T09:25:03.957168Z",
     "iopub.status.idle": "2022-12-29T09:25:03.967917Z",
     "shell.execute_reply": "2022-12-29T09:25:03.966480Z"
    },
    "papermill": {
     "duration": 0.025806,
     "end_time": "2022-12-29T09:25:03.970873",
     "exception": false,
     "start_time": "2022-12-29T09:25:03.945067",
     "status": "completed"
    },
    "tags": []
   },
   "outputs": [
    {
     "data": {
      "text/plain": [
       "92.65996389865244"
      ]
     },
     "execution_count": 26,
     "metadata": {},
     "output_type": "execute_result"
    }
   ],
   "source": [
    "model.score(x_test,y_test)*100"
   ]
  }
 ],
 "metadata": {
  "kernelspec": {
   "display_name": "Python 3",
   "language": "python",
   "name": "python3"
  },
  "language_info": {
   "codemirror_mode": {
    "name": "ipython",
    "version": 3
   },
   "file_extension": ".py",
   "mimetype": "text/x-python",
   "name": "python",
   "nbconvert_exporter": "python",
   "pygments_lexer": "ipython3",
   "version": "3.7.12"
  },
  "papermill": {
   "default_parameters": {},
   "duration": 12.783373,
   "end_time": "2022-12-29T09:25:04.909366",
   "environment_variables": {},
   "exception": null,
   "input_path": "__notebook__.ipynb",
   "output_path": "__notebook__.ipynb",
   "parameters": {},
   "start_time": "2022-12-29T09:24:52.125993",
   "version": "2.3.4"
  }
 },
 "nbformat": 4,
 "nbformat_minor": 5
}
