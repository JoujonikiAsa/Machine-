{
 "cells": [
  {
   "cell_type": "code",
   "execution_count": 1,
   "id": "d07704a8",
   "metadata": {
    "execution": {
     "iopub.execute_input": "2022-12-28T13:16:48.355513Z",
     "iopub.status.busy": "2022-12-28T13:16:48.355009Z",
     "iopub.status.idle": "2022-12-28T13:16:48.365306Z",
     "shell.execute_reply": "2022-12-28T13:16:48.364454Z"
    },
    "papermill": {
     "duration": 0.022401,
     "end_time": "2022-12-28T13:16:48.367353",
     "exception": false,
     "start_time": "2022-12-28T13:16:48.344952",
     "status": "completed"
    },
    "tags": []
   },
   "outputs": [],
   "source": [
    "import pandas as pd\n",
    "import numpy as np\n",
    "import matplotlib.pyplot as plt"
   ]
  },
  {
   "cell_type": "code",
   "execution_count": 2,
   "id": "53a95eea",
   "metadata": {
    "execution": {
     "iopub.execute_input": "2022-12-28T13:16:48.383661Z",
     "iopub.status.busy": "2022-12-28T13:16:48.382862Z",
     "iopub.status.idle": "2022-12-28T13:16:48.535931Z",
     "shell.execute_reply": "2022-12-28T13:16:48.534817Z"
    },
    "papermill": {
     "duration": 0.16391,
     "end_time": "2022-12-28T13:16:48.538742",
     "exception": false,
     "start_time": "2022-12-28T13:16:48.374832",
     "status": "completed"
    },
    "tags": []
   },
   "outputs": [],
   "source": [
    "df = pd.read_csv(\"/kaggle/input/uci-credit-card/UCI_Credit_Card.csv\")"
   ]
  },
  {
   "cell_type": "code",
   "execution_count": 3,
   "id": "2ec1f9d5",
   "metadata": {
    "execution": {
     "iopub.execute_input": "2022-12-28T13:16:48.556810Z",
     "iopub.status.busy": "2022-12-28T13:16:48.555782Z",
     "iopub.status.idle": "2022-12-28T13:16:48.587572Z",
     "shell.execute_reply": "2022-12-28T13:16:48.586432Z"
    },
    "papermill": {
     "duration": 0.04379,
     "end_time": "2022-12-28T13:16:48.590931",
     "exception": false,
     "start_time": "2022-12-28T13:16:48.547141",
     "status": "completed"
    },
    "tags": []
   },
   "outputs": [
    {
     "data": {
      "text/html": [
       "<div>\n",
       "<style scoped>\n",
       "    .dataframe tbody tr th:only-of-type {\n",
       "        vertical-align: middle;\n",
       "    }\n",
       "\n",
       "    .dataframe tbody tr th {\n",
       "        vertical-align: top;\n",
       "    }\n",
       "\n",
       "    .dataframe thead th {\n",
       "        text-align: right;\n",
       "    }\n",
       "</style>\n",
       "<table border=\"1\" class=\"dataframe\">\n",
       "  <thead>\n",
       "    <tr style=\"text-align: right;\">\n",
       "      <th></th>\n",
       "      <th>ID</th>\n",
       "      <th>LIMIT_BAL</th>\n",
       "      <th>SEX</th>\n",
       "      <th>EDUCATION</th>\n",
       "      <th>MARRIAGE</th>\n",
       "      <th>AGE</th>\n",
       "      <th>PAY_0</th>\n",
       "      <th>PAY_2</th>\n",
       "      <th>PAY_3</th>\n",
       "      <th>PAY_4</th>\n",
       "      <th>...</th>\n",
       "      <th>BILL_AMT4</th>\n",
       "      <th>BILL_AMT5</th>\n",
       "      <th>BILL_AMT6</th>\n",
       "      <th>PAY_AMT1</th>\n",
       "      <th>PAY_AMT2</th>\n",
       "      <th>PAY_AMT3</th>\n",
       "      <th>PAY_AMT4</th>\n",
       "      <th>PAY_AMT5</th>\n",
       "      <th>PAY_AMT6</th>\n",
       "      <th>target</th>\n",
       "    </tr>\n",
       "  </thead>\n",
       "  <tbody>\n",
       "    <tr>\n",
       "      <th>0</th>\n",
       "      <td>1</td>\n",
       "      <td>20000.0</td>\n",
       "      <td>2</td>\n",
       "      <td>2</td>\n",
       "      <td>1</td>\n",
       "      <td>24</td>\n",
       "      <td>2</td>\n",
       "      <td>2</td>\n",
       "      <td>-1</td>\n",
       "      <td>-1</td>\n",
       "      <td>...</td>\n",
       "      <td>0.0</td>\n",
       "      <td>0.0</td>\n",
       "      <td>0.0</td>\n",
       "      <td>0.0</td>\n",
       "      <td>689.0</td>\n",
       "      <td>0.0</td>\n",
       "      <td>0.0</td>\n",
       "      <td>0.0</td>\n",
       "      <td>0.0</td>\n",
       "      <td>1</td>\n",
       "    </tr>\n",
       "    <tr>\n",
       "      <th>1</th>\n",
       "      <td>2</td>\n",
       "      <td>120000.0</td>\n",
       "      <td>2</td>\n",
       "      <td>2</td>\n",
       "      <td>2</td>\n",
       "      <td>26</td>\n",
       "      <td>-1</td>\n",
       "      <td>2</td>\n",
       "      <td>0</td>\n",
       "      <td>0</td>\n",
       "      <td>...</td>\n",
       "      <td>3272.0</td>\n",
       "      <td>3455.0</td>\n",
       "      <td>3261.0</td>\n",
       "      <td>0.0</td>\n",
       "      <td>1000.0</td>\n",
       "      <td>1000.0</td>\n",
       "      <td>1000.0</td>\n",
       "      <td>0.0</td>\n",
       "      <td>2000.0</td>\n",
       "      <td>1</td>\n",
       "    </tr>\n",
       "    <tr>\n",
       "      <th>2</th>\n",
       "      <td>3</td>\n",
       "      <td>90000.0</td>\n",
       "      <td>2</td>\n",
       "      <td>2</td>\n",
       "      <td>2</td>\n",
       "      <td>34</td>\n",
       "      <td>0</td>\n",
       "      <td>0</td>\n",
       "      <td>0</td>\n",
       "      <td>0</td>\n",
       "      <td>...</td>\n",
       "      <td>14331.0</td>\n",
       "      <td>14948.0</td>\n",
       "      <td>15549.0</td>\n",
       "      <td>1518.0</td>\n",
       "      <td>1500.0</td>\n",
       "      <td>1000.0</td>\n",
       "      <td>1000.0</td>\n",
       "      <td>1000.0</td>\n",
       "      <td>5000.0</td>\n",
       "      <td>0</td>\n",
       "    </tr>\n",
       "    <tr>\n",
       "      <th>3</th>\n",
       "      <td>4</td>\n",
       "      <td>50000.0</td>\n",
       "      <td>2</td>\n",
       "      <td>2</td>\n",
       "      <td>1</td>\n",
       "      <td>37</td>\n",
       "      <td>0</td>\n",
       "      <td>0</td>\n",
       "      <td>0</td>\n",
       "      <td>0</td>\n",
       "      <td>...</td>\n",
       "      <td>28314.0</td>\n",
       "      <td>28959.0</td>\n",
       "      <td>29547.0</td>\n",
       "      <td>2000.0</td>\n",
       "      <td>2019.0</td>\n",
       "      <td>1200.0</td>\n",
       "      <td>1100.0</td>\n",
       "      <td>1069.0</td>\n",
       "      <td>1000.0</td>\n",
       "      <td>0</td>\n",
       "    </tr>\n",
       "    <tr>\n",
       "      <th>4</th>\n",
       "      <td>5</td>\n",
       "      <td>50000.0</td>\n",
       "      <td>1</td>\n",
       "      <td>2</td>\n",
       "      <td>1</td>\n",
       "      <td>57</td>\n",
       "      <td>-1</td>\n",
       "      <td>0</td>\n",
       "      <td>-1</td>\n",
       "      <td>0</td>\n",
       "      <td>...</td>\n",
       "      <td>20940.0</td>\n",
       "      <td>19146.0</td>\n",
       "      <td>19131.0</td>\n",
       "      <td>2000.0</td>\n",
       "      <td>36681.0</td>\n",
       "      <td>10000.0</td>\n",
       "      <td>9000.0</td>\n",
       "      <td>689.0</td>\n",
       "      <td>679.0</td>\n",
       "      <td>0</td>\n",
       "    </tr>\n",
       "  </tbody>\n",
       "</table>\n",
       "<p>5 rows × 25 columns</p>\n",
       "</div>"
      ],
      "text/plain": [
       "   ID  LIMIT_BAL  SEX  EDUCATION  MARRIAGE  AGE  PAY_0  PAY_2  PAY_3  PAY_4  \\\n",
       "0   1    20000.0    2          2         1   24      2      2     -1     -1   \n",
       "1   2   120000.0    2          2         2   26     -1      2      0      0   \n",
       "2   3    90000.0    2          2         2   34      0      0      0      0   \n",
       "3   4    50000.0    2          2         1   37      0      0      0      0   \n",
       "4   5    50000.0    1          2         1   57     -1      0     -1      0   \n",
       "\n",
       "   ...  BILL_AMT4  BILL_AMT5  BILL_AMT6  PAY_AMT1  PAY_AMT2  PAY_AMT3  \\\n",
       "0  ...        0.0        0.0        0.0       0.0     689.0       0.0   \n",
       "1  ...     3272.0     3455.0     3261.0       0.0    1000.0    1000.0   \n",
       "2  ...    14331.0    14948.0    15549.0    1518.0    1500.0    1000.0   \n",
       "3  ...    28314.0    28959.0    29547.0    2000.0    2019.0    1200.0   \n",
       "4  ...    20940.0    19146.0    19131.0    2000.0   36681.0   10000.0   \n",
       "\n",
       "   PAY_AMT4  PAY_AMT5  PAY_AMT6  target  \n",
       "0       0.0       0.0       0.0       1  \n",
       "1    1000.0       0.0    2000.0       1  \n",
       "2    1000.0    1000.0    5000.0       0  \n",
       "3    1100.0    1069.0    1000.0       0  \n",
       "4    9000.0     689.0     679.0       0  \n",
       "\n",
       "[5 rows x 25 columns]"
      ]
     },
     "execution_count": 3,
     "metadata": {},
     "output_type": "execute_result"
    }
   ],
   "source": [
    "df.head()"
   ]
  },
  {
   "cell_type": "code",
   "execution_count": 4,
   "id": "9d062786",
   "metadata": {
    "execution": {
     "iopub.execute_input": "2022-12-28T13:16:48.607450Z",
     "iopub.status.busy": "2022-12-28T13:16:48.607189Z",
     "iopub.status.idle": "2022-12-28T13:16:48.629417Z",
     "shell.execute_reply": "2022-12-28T13:16:48.628388Z"
    },
    "papermill": {
     "duration": 0.032986,
     "end_time": "2022-12-28T13:16:48.631817",
     "exception": false,
     "start_time": "2022-12-28T13:16:48.598831",
     "status": "completed"
    },
    "tags": []
   },
   "outputs": [
    {
     "data": {
      "text/html": [
       "<div>\n",
       "<style scoped>\n",
       "    .dataframe tbody tr th:only-of-type {\n",
       "        vertical-align: middle;\n",
       "    }\n",
       "\n",
       "    .dataframe tbody tr th {\n",
       "        vertical-align: top;\n",
       "    }\n",
       "\n",
       "    .dataframe thead th {\n",
       "        text-align: right;\n",
       "    }\n",
       "</style>\n",
       "<table border=\"1\" class=\"dataframe\">\n",
       "  <thead>\n",
       "    <tr style=\"text-align: right;\">\n",
       "      <th></th>\n",
       "      <th>ID</th>\n",
       "      <th>LIMIT_BAL</th>\n",
       "      <th>SEX</th>\n",
       "      <th>EDUCATION</th>\n",
       "      <th>MARRIAGE</th>\n",
       "      <th>AGE</th>\n",
       "      <th>PAY_0</th>\n",
       "      <th>PAY_2</th>\n",
       "      <th>PAY_3</th>\n",
       "      <th>PAY_4</th>\n",
       "      <th>...</th>\n",
       "      <th>BILL_AMT4</th>\n",
       "      <th>BILL_AMT5</th>\n",
       "      <th>BILL_AMT6</th>\n",
       "      <th>PAY_AMT1</th>\n",
       "      <th>PAY_AMT2</th>\n",
       "      <th>PAY_AMT3</th>\n",
       "      <th>PAY_AMT4</th>\n",
       "      <th>PAY_AMT5</th>\n",
       "      <th>PAY_AMT6</th>\n",
       "      <th>target</th>\n",
       "    </tr>\n",
       "  </thead>\n",
       "  <tbody>\n",
       "    <tr>\n",
       "      <th>29995</th>\n",
       "      <td>29996</td>\n",
       "      <td>220000.0</td>\n",
       "      <td>1</td>\n",
       "      <td>3</td>\n",
       "      <td>1</td>\n",
       "      <td>39</td>\n",
       "      <td>0</td>\n",
       "      <td>0</td>\n",
       "      <td>0</td>\n",
       "      <td>0</td>\n",
       "      <td>...</td>\n",
       "      <td>88004.0</td>\n",
       "      <td>31237.0</td>\n",
       "      <td>15980.0</td>\n",
       "      <td>8500.0</td>\n",
       "      <td>20000.0</td>\n",
       "      <td>5003.0</td>\n",
       "      <td>3047.0</td>\n",
       "      <td>5000.0</td>\n",
       "      <td>1000.0</td>\n",
       "      <td>0</td>\n",
       "    </tr>\n",
       "    <tr>\n",
       "      <th>29996</th>\n",
       "      <td>29997</td>\n",
       "      <td>150000.0</td>\n",
       "      <td>1</td>\n",
       "      <td>3</td>\n",
       "      <td>2</td>\n",
       "      <td>43</td>\n",
       "      <td>-1</td>\n",
       "      <td>-1</td>\n",
       "      <td>-1</td>\n",
       "      <td>-1</td>\n",
       "      <td>...</td>\n",
       "      <td>8979.0</td>\n",
       "      <td>5190.0</td>\n",
       "      <td>0.0</td>\n",
       "      <td>1837.0</td>\n",
       "      <td>3526.0</td>\n",
       "      <td>8998.0</td>\n",
       "      <td>129.0</td>\n",
       "      <td>0.0</td>\n",
       "      <td>0.0</td>\n",
       "      <td>0</td>\n",
       "    </tr>\n",
       "    <tr>\n",
       "      <th>29997</th>\n",
       "      <td>29998</td>\n",
       "      <td>30000.0</td>\n",
       "      <td>1</td>\n",
       "      <td>2</td>\n",
       "      <td>2</td>\n",
       "      <td>37</td>\n",
       "      <td>4</td>\n",
       "      <td>3</td>\n",
       "      <td>2</td>\n",
       "      <td>-1</td>\n",
       "      <td>...</td>\n",
       "      <td>20878.0</td>\n",
       "      <td>20582.0</td>\n",
       "      <td>19357.0</td>\n",
       "      <td>0.0</td>\n",
       "      <td>0.0</td>\n",
       "      <td>22000.0</td>\n",
       "      <td>4200.0</td>\n",
       "      <td>2000.0</td>\n",
       "      <td>3100.0</td>\n",
       "      <td>1</td>\n",
       "    </tr>\n",
       "    <tr>\n",
       "      <th>29998</th>\n",
       "      <td>29999</td>\n",
       "      <td>80000.0</td>\n",
       "      <td>1</td>\n",
       "      <td>3</td>\n",
       "      <td>1</td>\n",
       "      <td>41</td>\n",
       "      <td>1</td>\n",
       "      <td>-1</td>\n",
       "      <td>0</td>\n",
       "      <td>0</td>\n",
       "      <td>...</td>\n",
       "      <td>52774.0</td>\n",
       "      <td>11855.0</td>\n",
       "      <td>48944.0</td>\n",
       "      <td>85900.0</td>\n",
       "      <td>3409.0</td>\n",
       "      <td>1178.0</td>\n",
       "      <td>1926.0</td>\n",
       "      <td>52964.0</td>\n",
       "      <td>1804.0</td>\n",
       "      <td>1</td>\n",
       "    </tr>\n",
       "    <tr>\n",
       "      <th>29999</th>\n",
       "      <td>30000</td>\n",
       "      <td>50000.0</td>\n",
       "      <td>1</td>\n",
       "      <td>2</td>\n",
       "      <td>1</td>\n",
       "      <td>46</td>\n",
       "      <td>0</td>\n",
       "      <td>0</td>\n",
       "      <td>0</td>\n",
       "      <td>0</td>\n",
       "      <td>...</td>\n",
       "      <td>36535.0</td>\n",
       "      <td>32428.0</td>\n",
       "      <td>15313.0</td>\n",
       "      <td>2078.0</td>\n",
       "      <td>1800.0</td>\n",
       "      <td>1430.0</td>\n",
       "      <td>1000.0</td>\n",
       "      <td>1000.0</td>\n",
       "      <td>1000.0</td>\n",
       "      <td>1</td>\n",
       "    </tr>\n",
       "  </tbody>\n",
       "</table>\n",
       "<p>5 rows × 25 columns</p>\n",
       "</div>"
      ],
      "text/plain": [
       "          ID  LIMIT_BAL  SEX  EDUCATION  MARRIAGE  AGE  PAY_0  PAY_2  PAY_3  \\\n",
       "29995  29996   220000.0    1          3         1   39      0      0      0   \n",
       "29996  29997   150000.0    1          3         2   43     -1     -1     -1   \n",
       "29997  29998    30000.0    1          2         2   37      4      3      2   \n",
       "29998  29999    80000.0    1          3         1   41      1     -1      0   \n",
       "29999  30000    50000.0    1          2         1   46      0      0      0   \n",
       "\n",
       "       PAY_4  ...  BILL_AMT4  BILL_AMT5  BILL_AMT6  PAY_AMT1  PAY_AMT2  \\\n",
       "29995      0  ...    88004.0    31237.0    15980.0    8500.0   20000.0   \n",
       "29996     -1  ...     8979.0     5190.0        0.0    1837.0    3526.0   \n",
       "29997     -1  ...    20878.0    20582.0    19357.0       0.0       0.0   \n",
       "29998      0  ...    52774.0    11855.0    48944.0   85900.0    3409.0   \n",
       "29999      0  ...    36535.0    32428.0    15313.0    2078.0    1800.0   \n",
       "\n",
       "       PAY_AMT3  PAY_AMT4  PAY_AMT5  PAY_AMT6  target  \n",
       "29995    5003.0    3047.0    5000.0    1000.0       0  \n",
       "29996    8998.0     129.0       0.0       0.0       0  \n",
       "29997   22000.0    4200.0    2000.0    3100.0       1  \n",
       "29998    1178.0    1926.0   52964.0    1804.0       1  \n",
       "29999    1430.0    1000.0    1000.0    1000.0       1  \n",
       "\n",
       "[5 rows x 25 columns]"
      ]
     },
     "execution_count": 4,
     "metadata": {},
     "output_type": "execute_result"
    }
   ],
   "source": [
    "df.tail()"
   ]
  },
  {
   "cell_type": "code",
   "execution_count": 5,
   "id": "ab0b6455",
   "metadata": {
    "execution": {
     "iopub.execute_input": "2022-12-28T13:16:48.649410Z",
     "iopub.status.busy": "2022-12-28T13:16:48.648475Z",
     "iopub.status.idle": "2022-12-28T13:16:48.657863Z",
     "shell.execute_reply": "2022-12-28T13:16:48.656909Z"
    },
    "papermill": {
     "duration": 0.020152,
     "end_time": "2022-12-28T13:16:48.659867",
     "exception": false,
     "start_time": "2022-12-28T13:16:48.639715",
     "status": "completed"
    },
    "tags": []
   },
   "outputs": [
    {
     "data": {
      "text/plain": [
       "ID           0\n",
       "LIMIT_BAL    0\n",
       "SEX          0\n",
       "EDUCATION    0\n",
       "MARRIAGE     0\n",
       "AGE          0\n",
       "PAY_0        0\n",
       "PAY_2        0\n",
       "PAY_3        0\n",
       "PAY_4        0\n",
       "PAY_5        0\n",
       "PAY_6        0\n",
       "BILL_AMT1    0\n",
       "BILL_AMT2    0\n",
       "BILL_AMT3    0\n",
       "BILL_AMT4    0\n",
       "BILL_AMT5    0\n",
       "BILL_AMT6    0\n",
       "PAY_AMT1     0\n",
       "PAY_AMT2     0\n",
       "PAY_AMT3     0\n",
       "PAY_AMT4     0\n",
       "PAY_AMT5     0\n",
       "PAY_AMT6     0\n",
       "target       0\n",
       "dtype: int64"
      ]
     },
     "execution_count": 5,
     "metadata": {},
     "output_type": "execute_result"
    }
   ],
   "source": [
    "df.isnull().sum()"
   ]
  },
  {
   "cell_type": "code",
   "execution_count": 6,
   "id": "7d373a5a",
   "metadata": {
    "execution": {
     "iopub.execute_input": "2022-12-28T13:16:48.678463Z",
     "iopub.status.busy": "2022-12-28T13:16:48.677679Z",
     "iopub.status.idle": "2022-12-28T13:16:48.689948Z",
     "shell.execute_reply": "2022-12-28T13:16:48.688987Z"
    },
    "papermill": {
     "duration": 0.023663,
     "end_time": "2022-12-28T13:16:48.691862",
     "exception": false,
     "start_time": "2022-12-28T13:16:48.668199",
     "status": "completed"
    },
    "tags": []
   },
   "outputs": [
    {
     "data": {
      "text/plain": [
       "35.4855"
      ]
     },
     "execution_count": 6,
     "metadata": {},
     "output_type": "execute_result"
    }
   ],
   "source": [
    "df.mean().AGE"
   ]
  },
  {
   "cell_type": "code",
   "execution_count": 7,
   "id": "b72a02c1",
   "metadata": {
    "execution": {
     "iopub.execute_input": "2022-12-28T13:16:48.709392Z",
     "iopub.status.busy": "2022-12-28T13:16:48.708533Z",
     "iopub.status.idle": "2022-12-28T13:16:48.751739Z",
     "shell.execute_reply": "2022-12-28T13:16:48.750555Z"
    },
    "papermill": {
     "duration": 0.054192,
     "end_time": "2022-12-28T13:16:48.754081",
     "exception": false,
     "start_time": "2022-12-28T13:16:48.699889",
     "status": "completed"
    },
    "tags": []
   },
   "outputs": [
    {
     "data": {
      "text/html": [
       "<div>\n",
       "<style scoped>\n",
       "    .dataframe tbody tr th:only-of-type {\n",
       "        vertical-align: middle;\n",
       "    }\n",
       "\n",
       "    .dataframe tbody tr th {\n",
       "        vertical-align: top;\n",
       "    }\n",
       "\n",
       "    .dataframe thead th {\n",
       "        text-align: right;\n",
       "    }\n",
       "</style>\n",
       "<table border=\"1\" class=\"dataframe\">\n",
       "  <thead>\n",
       "    <tr style=\"text-align: right;\">\n",
       "      <th></th>\n",
       "      <th>ID</th>\n",
       "      <th>LIMIT_BAL</th>\n",
       "      <th>SEX</th>\n",
       "      <th>EDUCATION</th>\n",
       "      <th>MARRIAGE</th>\n",
       "      <th>AGE</th>\n",
       "      <th>PAY_0</th>\n",
       "      <th>PAY_2</th>\n",
       "      <th>PAY_3</th>\n",
       "      <th>PAY_4</th>\n",
       "      <th>...</th>\n",
       "      <th>BILL_AMT4</th>\n",
       "      <th>BILL_AMT5</th>\n",
       "      <th>BILL_AMT6</th>\n",
       "      <th>PAY_AMT1</th>\n",
       "      <th>PAY_AMT2</th>\n",
       "      <th>PAY_AMT3</th>\n",
       "      <th>PAY_AMT4</th>\n",
       "      <th>PAY_AMT5</th>\n",
       "      <th>PAY_AMT6</th>\n",
       "      <th>target</th>\n",
       "    </tr>\n",
       "  </thead>\n",
       "  <tbody>\n",
       "    <tr>\n",
       "      <th>0</th>\n",
       "      <td>1</td>\n",
       "      <td>20000.0</td>\n",
       "      <td>2</td>\n",
       "      <td>2</td>\n",
       "      <td>1</td>\n",
       "      <td>24</td>\n",
       "      <td>2</td>\n",
       "      <td>2</td>\n",
       "      <td>-1</td>\n",
       "      <td>-1</td>\n",
       "      <td>...</td>\n",
       "      <td>0.0</td>\n",
       "      <td>0.0</td>\n",
       "      <td>0.0</td>\n",
       "      <td>0.0</td>\n",
       "      <td>689.0</td>\n",
       "      <td>0.0</td>\n",
       "      <td>0.0</td>\n",
       "      <td>0.0</td>\n",
       "      <td>0.0</td>\n",
       "      <td>1</td>\n",
       "    </tr>\n",
       "    <tr>\n",
       "      <th>1</th>\n",
       "      <td>2</td>\n",
       "      <td>120000.0</td>\n",
       "      <td>2</td>\n",
       "      <td>2</td>\n",
       "      <td>2</td>\n",
       "      <td>26</td>\n",
       "      <td>-1</td>\n",
       "      <td>2</td>\n",
       "      <td>0</td>\n",
       "      <td>0</td>\n",
       "      <td>...</td>\n",
       "      <td>3272.0</td>\n",
       "      <td>3455.0</td>\n",
       "      <td>3261.0</td>\n",
       "      <td>0.0</td>\n",
       "      <td>1000.0</td>\n",
       "      <td>1000.0</td>\n",
       "      <td>1000.0</td>\n",
       "      <td>0.0</td>\n",
       "      <td>2000.0</td>\n",
       "      <td>1</td>\n",
       "    </tr>\n",
       "    <tr>\n",
       "      <th>2</th>\n",
       "      <td>3</td>\n",
       "      <td>90000.0</td>\n",
       "      <td>2</td>\n",
       "      <td>2</td>\n",
       "      <td>2</td>\n",
       "      <td>34</td>\n",
       "      <td>0</td>\n",
       "      <td>0</td>\n",
       "      <td>0</td>\n",
       "      <td>0</td>\n",
       "      <td>...</td>\n",
       "      <td>14331.0</td>\n",
       "      <td>14948.0</td>\n",
       "      <td>15549.0</td>\n",
       "      <td>1518.0</td>\n",
       "      <td>1500.0</td>\n",
       "      <td>1000.0</td>\n",
       "      <td>1000.0</td>\n",
       "      <td>1000.0</td>\n",
       "      <td>5000.0</td>\n",
       "      <td>0</td>\n",
       "    </tr>\n",
       "    <tr>\n",
       "      <th>3</th>\n",
       "      <td>4</td>\n",
       "      <td>50000.0</td>\n",
       "      <td>2</td>\n",
       "      <td>2</td>\n",
       "      <td>1</td>\n",
       "      <td>37</td>\n",
       "      <td>0</td>\n",
       "      <td>0</td>\n",
       "      <td>0</td>\n",
       "      <td>0</td>\n",
       "      <td>...</td>\n",
       "      <td>28314.0</td>\n",
       "      <td>28959.0</td>\n",
       "      <td>29547.0</td>\n",
       "      <td>2000.0</td>\n",
       "      <td>2019.0</td>\n",
       "      <td>1200.0</td>\n",
       "      <td>1100.0</td>\n",
       "      <td>1069.0</td>\n",
       "      <td>1000.0</td>\n",
       "      <td>0</td>\n",
       "    </tr>\n",
       "    <tr>\n",
       "      <th>4</th>\n",
       "      <td>5</td>\n",
       "      <td>50000.0</td>\n",
       "      <td>1</td>\n",
       "      <td>2</td>\n",
       "      <td>1</td>\n",
       "      <td>57</td>\n",
       "      <td>-1</td>\n",
       "      <td>0</td>\n",
       "      <td>-1</td>\n",
       "      <td>0</td>\n",
       "      <td>...</td>\n",
       "      <td>20940.0</td>\n",
       "      <td>19146.0</td>\n",
       "      <td>19131.0</td>\n",
       "      <td>2000.0</td>\n",
       "      <td>36681.0</td>\n",
       "      <td>10000.0</td>\n",
       "      <td>9000.0</td>\n",
       "      <td>689.0</td>\n",
       "      <td>679.0</td>\n",
       "      <td>0</td>\n",
       "    </tr>\n",
       "    <tr>\n",
       "      <th>...</th>\n",
       "      <td>...</td>\n",
       "      <td>...</td>\n",
       "      <td>...</td>\n",
       "      <td>...</td>\n",
       "      <td>...</td>\n",
       "      <td>...</td>\n",
       "      <td>...</td>\n",
       "      <td>...</td>\n",
       "      <td>...</td>\n",
       "      <td>...</td>\n",
       "      <td>...</td>\n",
       "      <td>...</td>\n",
       "      <td>...</td>\n",
       "      <td>...</td>\n",
       "      <td>...</td>\n",
       "      <td>...</td>\n",
       "      <td>...</td>\n",
       "      <td>...</td>\n",
       "      <td>...</td>\n",
       "      <td>...</td>\n",
       "      <td>...</td>\n",
       "    </tr>\n",
       "    <tr>\n",
       "      <th>29995</th>\n",
       "      <td>29996</td>\n",
       "      <td>220000.0</td>\n",
       "      <td>1</td>\n",
       "      <td>3</td>\n",
       "      <td>1</td>\n",
       "      <td>39</td>\n",
       "      <td>0</td>\n",
       "      <td>0</td>\n",
       "      <td>0</td>\n",
       "      <td>0</td>\n",
       "      <td>...</td>\n",
       "      <td>88004.0</td>\n",
       "      <td>31237.0</td>\n",
       "      <td>15980.0</td>\n",
       "      <td>8500.0</td>\n",
       "      <td>20000.0</td>\n",
       "      <td>5003.0</td>\n",
       "      <td>3047.0</td>\n",
       "      <td>5000.0</td>\n",
       "      <td>1000.0</td>\n",
       "      <td>0</td>\n",
       "    </tr>\n",
       "    <tr>\n",
       "      <th>29996</th>\n",
       "      <td>29997</td>\n",
       "      <td>150000.0</td>\n",
       "      <td>1</td>\n",
       "      <td>3</td>\n",
       "      <td>2</td>\n",
       "      <td>43</td>\n",
       "      <td>-1</td>\n",
       "      <td>-1</td>\n",
       "      <td>-1</td>\n",
       "      <td>-1</td>\n",
       "      <td>...</td>\n",
       "      <td>8979.0</td>\n",
       "      <td>5190.0</td>\n",
       "      <td>0.0</td>\n",
       "      <td>1837.0</td>\n",
       "      <td>3526.0</td>\n",
       "      <td>8998.0</td>\n",
       "      <td>129.0</td>\n",
       "      <td>0.0</td>\n",
       "      <td>0.0</td>\n",
       "      <td>0</td>\n",
       "    </tr>\n",
       "    <tr>\n",
       "      <th>29997</th>\n",
       "      <td>29998</td>\n",
       "      <td>30000.0</td>\n",
       "      <td>1</td>\n",
       "      <td>2</td>\n",
       "      <td>2</td>\n",
       "      <td>37</td>\n",
       "      <td>4</td>\n",
       "      <td>3</td>\n",
       "      <td>2</td>\n",
       "      <td>-1</td>\n",
       "      <td>...</td>\n",
       "      <td>20878.0</td>\n",
       "      <td>20582.0</td>\n",
       "      <td>19357.0</td>\n",
       "      <td>0.0</td>\n",
       "      <td>0.0</td>\n",
       "      <td>22000.0</td>\n",
       "      <td>4200.0</td>\n",
       "      <td>2000.0</td>\n",
       "      <td>3100.0</td>\n",
       "      <td>1</td>\n",
       "    </tr>\n",
       "    <tr>\n",
       "      <th>29998</th>\n",
       "      <td>29999</td>\n",
       "      <td>80000.0</td>\n",
       "      <td>1</td>\n",
       "      <td>3</td>\n",
       "      <td>1</td>\n",
       "      <td>41</td>\n",
       "      <td>1</td>\n",
       "      <td>-1</td>\n",
       "      <td>0</td>\n",
       "      <td>0</td>\n",
       "      <td>...</td>\n",
       "      <td>52774.0</td>\n",
       "      <td>11855.0</td>\n",
       "      <td>48944.0</td>\n",
       "      <td>85900.0</td>\n",
       "      <td>3409.0</td>\n",
       "      <td>1178.0</td>\n",
       "      <td>1926.0</td>\n",
       "      <td>52964.0</td>\n",
       "      <td>1804.0</td>\n",
       "      <td>1</td>\n",
       "    </tr>\n",
       "    <tr>\n",
       "      <th>29999</th>\n",
       "      <td>30000</td>\n",
       "      <td>50000.0</td>\n",
       "      <td>1</td>\n",
       "      <td>2</td>\n",
       "      <td>1</td>\n",
       "      <td>46</td>\n",
       "      <td>0</td>\n",
       "      <td>0</td>\n",
       "      <td>0</td>\n",
       "      <td>0</td>\n",
       "      <td>...</td>\n",
       "      <td>36535.0</td>\n",
       "      <td>32428.0</td>\n",
       "      <td>15313.0</td>\n",
       "      <td>2078.0</td>\n",
       "      <td>1800.0</td>\n",
       "      <td>1430.0</td>\n",
       "      <td>1000.0</td>\n",
       "      <td>1000.0</td>\n",
       "      <td>1000.0</td>\n",
       "      <td>1</td>\n",
       "    </tr>\n",
       "  </tbody>\n",
       "</table>\n",
       "<p>30000 rows × 25 columns</p>\n",
       "</div>"
      ],
      "text/plain": [
       "          ID  LIMIT_BAL  SEX  EDUCATION  MARRIAGE  AGE  PAY_0  PAY_2  PAY_3  \\\n",
       "0          1    20000.0    2          2         1   24      2      2     -1   \n",
       "1          2   120000.0    2          2         2   26     -1      2      0   \n",
       "2          3    90000.0    2          2         2   34      0      0      0   \n",
       "3          4    50000.0    2          2         1   37      0      0      0   \n",
       "4          5    50000.0    1          2         1   57     -1      0     -1   \n",
       "...      ...        ...  ...        ...       ...  ...    ...    ...    ...   \n",
       "29995  29996   220000.0    1          3         1   39      0      0      0   \n",
       "29996  29997   150000.0    1          3         2   43     -1     -1     -1   \n",
       "29997  29998    30000.0    1          2         2   37      4      3      2   \n",
       "29998  29999    80000.0    1          3         1   41      1     -1      0   \n",
       "29999  30000    50000.0    1          2         1   46      0      0      0   \n",
       "\n",
       "       PAY_4  ...  BILL_AMT4  BILL_AMT5  BILL_AMT6  PAY_AMT1  PAY_AMT2  \\\n",
       "0         -1  ...        0.0        0.0        0.0       0.0     689.0   \n",
       "1          0  ...     3272.0     3455.0     3261.0       0.0    1000.0   \n",
       "2          0  ...    14331.0    14948.0    15549.0    1518.0    1500.0   \n",
       "3          0  ...    28314.0    28959.0    29547.0    2000.0    2019.0   \n",
       "4          0  ...    20940.0    19146.0    19131.0    2000.0   36681.0   \n",
       "...      ...  ...        ...        ...        ...       ...       ...   \n",
       "29995      0  ...    88004.0    31237.0    15980.0    8500.0   20000.0   \n",
       "29996     -1  ...     8979.0     5190.0        0.0    1837.0    3526.0   \n",
       "29997     -1  ...    20878.0    20582.0    19357.0       0.0       0.0   \n",
       "29998      0  ...    52774.0    11855.0    48944.0   85900.0    3409.0   \n",
       "29999      0  ...    36535.0    32428.0    15313.0    2078.0    1800.0   \n",
       "\n",
       "       PAY_AMT3  PAY_AMT4  PAY_AMT5  PAY_AMT6  target  \n",
       "0           0.0       0.0       0.0       0.0       1  \n",
       "1        1000.0    1000.0       0.0    2000.0       1  \n",
       "2        1000.0    1000.0    1000.0    5000.0       0  \n",
       "3        1200.0    1100.0    1069.0    1000.0       0  \n",
       "4       10000.0    9000.0     689.0     679.0       0  \n",
       "...         ...       ...       ...       ...     ...  \n",
       "29995    5003.0    3047.0    5000.0    1000.0       0  \n",
       "29996    8998.0     129.0       0.0       0.0       0  \n",
       "29997   22000.0    4200.0    2000.0    3100.0       1  \n",
       "29998    1178.0    1926.0   52964.0    1804.0       1  \n",
       "29999    1430.0    1000.0    1000.0    1000.0       1  \n",
       "\n",
       "[30000 rows x 25 columns]"
      ]
     },
     "execution_count": 7,
     "metadata": {},
     "output_type": "execute_result"
    }
   ],
   "source": [
    "df.fillna(df.mean().AGE)"
   ]
  },
  {
   "cell_type": "code",
   "execution_count": 8,
   "id": "720b6426",
   "metadata": {
    "execution": {
     "iopub.execute_input": "2022-12-28T13:16:48.774059Z",
     "iopub.status.busy": "2022-12-28T13:16:48.773357Z",
     "iopub.status.idle": "2022-12-28T13:16:48.783442Z",
     "shell.execute_reply": "2022-12-28T13:16:48.782632Z"
    },
    "papermill": {
     "duration": 0.021974,
     "end_time": "2022-12-28T13:16:48.785413",
     "exception": false,
     "start_time": "2022-12-28T13:16:48.763439",
     "status": "completed"
    },
    "tags": []
   },
   "outputs": [],
   "source": [
    "x = df.drop([\"target\"], axis = 1)"
   ]
  },
  {
   "cell_type": "code",
   "execution_count": 9,
   "id": "db171f47",
   "metadata": {
    "execution": {
     "iopub.execute_input": "2022-12-28T13:16:48.803511Z",
     "iopub.status.busy": "2022-12-28T13:16:48.802753Z",
     "iopub.status.idle": "2022-12-28T13:16:48.807195Z",
     "shell.execute_reply": "2022-12-28T13:16:48.806010Z"
    },
    "papermill": {
     "duration": 0.01581,
     "end_time": "2022-12-28T13:16:48.809527",
     "exception": false,
     "start_time": "2022-12-28T13:16:48.793717",
     "status": "completed"
    },
    "tags": []
   },
   "outputs": [],
   "source": [
    "y = df[\"target\"]"
   ]
  },
  {
   "cell_type": "code",
   "execution_count": 10,
   "id": "a6e9253f",
   "metadata": {
    "execution": {
     "iopub.execute_input": "2022-12-28T13:16:48.827104Z",
     "iopub.status.busy": "2022-12-28T13:16:48.826844Z",
     "iopub.status.idle": "2022-12-28T13:16:49.730733Z",
     "shell.execute_reply": "2022-12-28T13:16:49.729732Z"
    },
    "papermill": {
     "duration": 0.915382,
     "end_time": "2022-12-28T13:16:49.733155",
     "exception": false,
     "start_time": "2022-12-28T13:16:48.817773",
     "status": "completed"
    },
    "tags": []
   },
   "outputs": [],
   "source": [
    "import sklearn\n",
    "from sklearn.model_selection import train_test_split"
   ]
  },
  {
   "cell_type": "code",
   "execution_count": 11,
   "id": "59497e72",
   "metadata": {
    "execution": {
     "iopub.execute_input": "2022-12-28T13:16:49.751741Z",
     "iopub.status.busy": "2022-12-28T13:16:49.751424Z",
     "iopub.status.idle": "2022-12-28T13:16:49.767663Z",
     "shell.execute_reply": "2022-12-28T13:16:49.766878Z"
    },
    "papermill": {
     "duration": 0.027708,
     "end_time": "2022-12-28T13:16:49.769682",
     "exception": false,
     "start_time": "2022-12-28T13:16:49.741974",
     "status": "completed"
    },
    "tags": []
   },
   "outputs": [],
   "source": [
    "xtrain,xtest,ytrain,ytest = train_test_split(x,y,test_size = 0.25, random_state = 1)"
   ]
  },
  {
   "cell_type": "code",
   "execution_count": 12,
   "id": "0f4d6ef4",
   "metadata": {
    "execution": {
     "iopub.execute_input": "2022-12-28T13:16:49.787314Z",
     "iopub.status.busy": "2022-12-28T13:16:49.787033Z",
     "iopub.status.idle": "2022-12-28T13:16:49.792980Z",
     "shell.execute_reply": "2022-12-28T13:16:49.792097Z"
    },
    "papermill": {
     "duration": 0.017229,
     "end_time": "2022-12-28T13:16:49.795122",
     "exception": false,
     "start_time": "2022-12-28T13:16:49.777893",
     "status": "completed"
    },
    "tags": []
   },
   "outputs": [
    {
     "data": {
      "text/plain": [
       "(22500, 24)"
      ]
     },
     "execution_count": 12,
     "metadata": {},
     "output_type": "execute_result"
    }
   ],
   "source": [
    "xtrain.shape"
   ]
  },
  {
   "cell_type": "code",
   "execution_count": 13,
   "id": "ab141dff",
   "metadata": {
    "execution": {
     "iopub.execute_input": "2022-12-28T13:16:49.815299Z",
     "iopub.status.busy": "2022-12-28T13:16:49.814389Z",
     "iopub.status.idle": "2022-12-28T13:16:49.821099Z",
     "shell.execute_reply": "2022-12-28T13:16:49.820122Z"
    },
    "papermill": {
     "duration": 0.018915,
     "end_time": "2022-12-28T13:16:49.823188",
     "exception": false,
     "start_time": "2022-12-28T13:16:49.804273",
     "status": "completed"
    },
    "tags": []
   },
   "outputs": [
    {
     "data": {
      "text/plain": [
       "(7500, 24)"
      ]
     },
     "execution_count": 13,
     "metadata": {},
     "output_type": "execute_result"
    }
   ],
   "source": [
    "xtest.shape"
   ]
  },
  {
   "cell_type": "code",
   "execution_count": 14,
   "id": "472293b7",
   "metadata": {
    "execution": {
     "iopub.execute_input": "2022-12-28T13:16:49.842481Z",
     "iopub.status.busy": "2022-12-28T13:16:49.841681Z",
     "iopub.status.idle": "2022-12-28T13:16:49.931574Z",
     "shell.execute_reply": "2022-12-28T13:16:49.930006Z"
    },
    "papermill": {
     "duration": 0.101203,
     "end_time": "2022-12-28T13:16:49.933464",
     "exception": true,
     "start_time": "2022-12-28T13:16:49.832261",
     "status": "failed"
    },
    "tags": []
   },
   "outputs": [
    {
     "ename": "NameError",
     "evalue": "name 'model' is not defined",
     "output_type": "error",
     "traceback": [
      "\u001b[0;31m---------------------------------------------------------------------------\u001b[0m",
      "\u001b[0;31mNameError\u001b[0m                                 Traceback (most recent call last)",
      "\u001b[0;32m/tmp/ipykernel_23/1709541280.py\u001b[0m in \u001b[0;36m<module>\u001b[0;34m\u001b[0m\n\u001b[0;32m----> 1\u001b[0;31m \u001b[0mmodel\u001b[0m\u001b[0;34m.\u001b[0m\u001b[0mclasses_\u001b[0m\u001b[0;34m\u001b[0m\u001b[0;34m\u001b[0m\u001b[0m\n\u001b[0m",
      "\u001b[0;31mNameError\u001b[0m: name 'model' is not defined"
     ]
    }
   ],
   "source": [
    "model.classes_"
   ]
  },
  {
   "cell_type": "code",
   "execution_count": null,
   "id": "3895ee74",
   "metadata": {
    "execution": {
     "iopub.execute_input": "2022-12-28T13:03:25.060814Z",
     "iopub.status.busy": "2022-12-28T13:03:25.060167Z",
     "iopub.status.idle": "2022-12-28T13:04:08.467256Z",
     "shell.execute_reply": "2022-12-28T13:04:08.466221Z",
     "shell.execute_reply.started": "2022-12-28T13:03:25.060772Z"
    },
    "papermill": {
     "duration": null,
     "end_time": null,
     "exception": null,
     "start_time": null,
     "status": "pending"
    },
    "tags": []
   },
   "outputs": [],
   "source": [
    "model.predict(x)"
   ]
  },
  {
   "cell_type": "code",
   "execution_count": null,
   "id": "dfecd257",
   "metadata": {
    "execution": {
     "iopub.execute_input": "2022-12-28T13:04:08.470028Z",
     "iopub.status.busy": "2022-12-28T13:04:08.469358Z",
     "iopub.status.idle": "2022-12-28T13:04:08.474853Z",
     "shell.execute_reply": "2022-12-28T13:04:08.473926Z",
     "shell.execute_reply.started": "2022-12-28T13:04:08.469978Z"
    },
    "papermill": {
     "duration": null,
     "end_time": null,
     "exception": null,
     "start_time": null,
     "status": "pending"
    },
    "tags": []
   },
   "outputs": [],
   "source": [
    "from sklearn.svm import SVC"
   ]
  },
  {
   "cell_type": "code",
   "execution_count": null,
   "id": "d5b7274f",
   "metadata": {
    "execution": {
     "iopub.execute_input": "2022-12-28T13:04:08.476894Z",
     "iopub.status.busy": "2022-12-28T13:04:08.476497Z",
     "iopub.status.idle": "2022-12-28T13:04:08.484832Z",
     "shell.execute_reply": "2022-12-28T13:04:08.483778Z",
     "shell.execute_reply.started": "2022-12-28T13:04:08.476845Z"
    },
    "papermill": {
     "duration": null,
     "end_time": null,
     "exception": null,
     "start_time": null,
     "status": "pending"
    },
    "tags": []
   },
   "outputs": [],
   "source": [
    "model = SVC(gamma='auto')"
   ]
  },
  {
   "cell_type": "code",
   "execution_count": null,
   "id": "cb45e305",
   "metadata": {
    "execution": {
     "iopub.execute_input": "2022-12-28T13:04:08.486805Z",
     "iopub.status.busy": "2022-12-28T13:04:08.486411Z",
     "iopub.status.idle": "2022-12-28T13:05:47.021205Z",
     "shell.execute_reply": "2022-12-28T13:05:47.020193Z",
     "shell.execute_reply.started": "2022-12-28T13:04:08.486770Z"
    },
    "papermill": {
     "duration": null,
     "end_time": null,
     "exception": null,
     "start_time": null,
     "status": "pending"
    },
    "tags": []
   },
   "outputs": [],
   "source": [
    "model.fit(xtrain,ytrain)"
   ]
  },
  {
   "cell_type": "code",
   "execution_count": null,
   "id": "aa3ef730",
   "metadata": {
    "execution": {
     "iopub.execute_input": "2022-12-28T13:05:47.024003Z",
     "iopub.status.busy": "2022-12-28T13:05:47.023342Z",
     "iopub.status.idle": "2022-12-28T13:05:57.669106Z",
     "shell.execute_reply": "2022-12-28T13:05:57.668213Z",
     "shell.execute_reply.started": "2022-12-28T13:05:47.023962Z"
    },
    "papermill": {
     "duration": null,
     "end_time": null,
     "exception": null,
     "start_time": null,
     "status": "pending"
    },
    "tags": []
   },
   "outputs": [],
   "source": [
    "model.score(xtest,ytest)"
   ]
  },
  {
   "cell_type": "code",
   "execution_count": null,
   "id": "168a48ee",
   "metadata": {
    "execution": {
     "iopub.execute_input": "2022-12-28T13:05:57.670964Z",
     "iopub.status.busy": "2022-12-28T13:05:57.670492Z",
     "iopub.status.idle": "2022-12-28T13:05:57.676096Z",
     "shell.execute_reply": "2022-12-28T13:05:57.675089Z",
     "shell.execute_reply.started": "2022-12-28T13:05:57.670924Z"
    },
    "papermill": {
     "duration": null,
     "end_time": null,
     "exception": null,
     "start_time": null,
     "status": "pending"
    },
    "tags": []
   },
   "outputs": [],
   "source": [
    "from sklearn.ensemble import RandomForestClassifier"
   ]
  },
  {
   "cell_type": "code",
   "execution_count": null,
   "id": "20a4ef44",
   "metadata": {
    "execution": {
     "iopub.execute_input": "2022-12-28T13:05:57.678656Z",
     "iopub.status.busy": "2022-12-28T13:05:57.677731Z",
     "iopub.status.idle": "2022-12-28T13:05:57.685949Z",
     "shell.execute_reply": "2022-12-28T13:05:57.684804Z",
     "shell.execute_reply.started": "2022-12-28T13:05:57.678619Z"
    },
    "papermill": {
     "duration": null,
     "end_time": null,
     "exception": null,
     "start_time": null,
     "status": "pending"
    },
    "tags": []
   },
   "outputs": [],
   "source": [
    "RFC = RandomForestClassifier()"
   ]
  },
  {
   "cell_type": "code",
   "execution_count": null,
   "id": "40b1cb6e",
   "metadata": {
    "execution": {
     "iopub.execute_input": "2022-12-28T13:05:57.688022Z",
     "iopub.status.busy": "2022-12-28T13:05:57.687537Z",
     "iopub.status.idle": "2022-12-28T13:06:04.015181Z",
     "shell.execute_reply": "2022-12-28T13:06:04.014211Z",
     "shell.execute_reply.started": "2022-12-28T13:05:57.687987Z"
    },
    "papermill": {
     "duration": null,
     "end_time": null,
     "exception": null,
     "start_time": null,
     "status": "pending"
    },
    "tags": []
   },
   "outputs": [],
   "source": [
    "RFC.fit(xtrain,ytrain)"
   ]
  },
  {
   "cell_type": "code",
   "execution_count": null,
   "id": "bfb08284",
   "metadata": {
    "execution": {
     "iopub.execute_input": "2022-12-28T13:06:04.017265Z",
     "iopub.status.busy": "2022-12-28T13:06:04.016776Z",
     "iopub.status.idle": "2022-12-28T13:06:04.202574Z",
     "shell.execute_reply": "2022-12-28T13:06:04.201698Z",
     "shell.execute_reply.started": "2022-12-28T13:06:04.017207Z"
    },
    "papermill": {
     "duration": null,
     "end_time": null,
     "exception": null,
     "start_time": null,
     "status": "pending"
    },
    "tags": []
   },
   "outputs": [],
   "source": [
    "RFC.score(xtest,ytest)"
   ]
  },
  {
   "cell_type": "code",
   "execution_count": null,
   "id": "4e614a8f",
   "metadata": {
    "execution": {
     "iopub.execute_input": "2022-12-28T13:06:04.204397Z",
     "iopub.status.busy": "2022-12-28T13:06:04.204029Z",
     "iopub.status.idle": "2022-12-28T13:06:04.209090Z",
     "shell.execute_reply": "2022-12-28T13:06:04.208165Z",
     "shell.execute_reply.started": "2022-12-28T13:06:04.204360Z"
    },
    "papermill": {
     "duration": null,
     "end_time": null,
     "exception": null,
     "start_time": null,
     "status": "pending"
    },
    "tags": []
   },
   "outputs": [],
   "source": [
    "from sklearn.tree import DecisionTreeClassifier"
   ]
  },
  {
   "cell_type": "code",
   "execution_count": null,
   "id": "c55e50d4",
   "metadata": {
    "execution": {
     "iopub.execute_input": "2022-12-28T13:06:04.211293Z",
     "iopub.status.busy": "2022-12-28T13:06:04.210314Z",
     "iopub.status.idle": "2022-12-28T13:06:04.220346Z",
     "shell.execute_reply": "2022-12-28T13:06:04.219294Z",
     "shell.execute_reply.started": "2022-12-28T13:06:04.211232Z"
    },
    "papermill": {
     "duration": null,
     "end_time": null,
     "exception": null,
     "start_time": null,
     "status": "pending"
    },
    "tags": []
   },
   "outputs": [],
   "source": [
    "DTC = DecisionTreeClassifier()"
   ]
  },
  {
   "cell_type": "code",
   "execution_count": null,
   "id": "d29d288e",
   "metadata": {
    "execution": {
     "iopub.execute_input": "2022-12-28T13:06:04.222581Z",
     "iopub.status.busy": "2022-12-28T13:06:04.221553Z",
     "iopub.status.idle": "2022-12-28T13:06:04.767291Z",
     "shell.execute_reply": "2022-12-28T13:06:04.766317Z",
     "shell.execute_reply.started": "2022-12-28T13:06:04.222543Z"
    },
    "papermill": {
     "duration": null,
     "end_time": null,
     "exception": null,
     "start_time": null,
     "status": "pending"
    },
    "tags": []
   },
   "outputs": [],
   "source": [
    "DTC.fit(xtrain,ytrain)"
   ]
  },
  {
   "cell_type": "code",
   "execution_count": null,
   "id": "ffab8f02",
   "metadata": {
    "execution": {
     "iopub.execute_input": "2022-12-28T13:06:04.769224Z",
     "iopub.status.busy": "2022-12-28T13:06:04.768590Z",
     "iopub.status.idle": "2022-12-28T13:06:04.781722Z",
     "shell.execute_reply": "2022-12-28T13:06:04.780683Z",
     "shell.execute_reply.started": "2022-12-28T13:06:04.769183Z"
    },
    "papermill": {
     "duration": null,
     "end_time": null,
     "exception": null,
     "start_time": null,
     "status": "pending"
    },
    "tags": []
   },
   "outputs": [],
   "source": [
    "DTC.score(xtest,ytest)"
   ]
  },
  {
   "cell_type": "code",
   "execution_count": null,
   "id": "4c28abe5",
   "metadata": {
    "execution": {
     "iopub.execute_input": "2022-12-28T13:06:04.787315Z",
     "iopub.status.busy": "2022-12-28T13:06:04.787013Z",
     "iopub.status.idle": "2022-12-28T13:06:04.792697Z",
     "shell.execute_reply": "2022-12-28T13:06:04.790798Z",
     "shell.execute_reply.started": "2022-12-28T13:06:04.787287Z"
    },
    "papermill": {
     "duration": null,
     "end_time": null,
     "exception": null,
     "start_time": null,
     "status": "pending"
    },
    "tags": []
   },
   "outputs": [],
   "source": [
    "from sklearn.linear_model import LogisticRegression"
   ]
  },
  {
   "cell_type": "code",
   "execution_count": null,
   "id": "a8081203",
   "metadata": {
    "execution": {
     "iopub.execute_input": "2022-12-28T13:06:04.795904Z",
     "iopub.status.busy": "2022-12-28T13:06:04.793968Z",
     "iopub.status.idle": "2022-12-28T13:06:04.801404Z",
     "shell.execute_reply": "2022-12-28T13:06:04.800380Z",
     "shell.execute_reply.started": "2022-12-28T13:06:04.795852Z"
    },
    "papermill": {
     "duration": null,
     "end_time": null,
     "exception": null,
     "start_time": null,
     "status": "pending"
    },
    "tags": []
   },
   "outputs": [],
   "source": [
    "LR = LogisticRegression()"
   ]
  },
  {
   "cell_type": "code",
   "execution_count": null,
   "id": "cfba629c",
   "metadata": {
    "execution": {
     "iopub.execute_input": "2022-12-28T13:06:04.803517Z",
     "iopub.status.busy": "2022-12-28T13:06:04.803075Z",
     "iopub.status.idle": "2022-12-28T13:06:05.141115Z",
     "shell.execute_reply": "2022-12-28T13:06:05.139922Z",
     "shell.execute_reply.started": "2022-12-28T13:06:04.803483Z"
    },
    "papermill": {
     "duration": null,
     "end_time": null,
     "exception": null,
     "start_time": null,
     "status": "pending"
    },
    "tags": []
   },
   "outputs": [],
   "source": [
    "LR.fit(xtrain,ytrain)"
   ]
  },
  {
   "cell_type": "code",
   "execution_count": null,
   "id": "e212fcba",
   "metadata": {
    "execution": {
     "iopub.execute_input": "2022-12-28T13:06:05.148747Z",
     "iopub.status.busy": "2022-12-28T13:06:05.145010Z",
     "iopub.status.idle": "2022-12-28T13:06:05.164730Z",
     "shell.execute_reply": "2022-12-28T13:06:05.163179Z",
     "shell.execute_reply.started": "2022-12-28T13:06:05.148694Z"
    },
    "papermill": {
     "duration": null,
     "end_time": null,
     "exception": null,
     "start_time": null,
     "status": "pending"
    },
    "tags": []
   },
   "outputs": [],
   "source": [
    "LR.score(xtest,ytest)"
   ]
  },
  {
   "cell_type": "code",
   "execution_count": null,
   "id": "aaf4b386",
   "metadata": {
    "execution": {
     "iopub.execute_input": "2022-12-28T13:07:05.186040Z",
     "iopub.status.busy": "2022-12-28T13:07:05.185672Z",
     "iopub.status.idle": "2022-12-28T13:07:05.193347Z",
     "shell.execute_reply": "2022-12-28T13:07:05.192374Z",
     "shell.execute_reply.started": "2022-12-28T13:07:05.186009Z"
    },
    "papermill": {
     "duration": null,
     "end_time": null,
     "exception": null,
     "start_time": null,
     "status": "pending"
    },
    "tags": []
   },
   "outputs": [],
   "source": [
    "from sklearn.naive_bayes import GaussianNB "
   ]
  },
  {
   "cell_type": "code",
   "execution_count": null,
   "id": "ec811926",
   "metadata": {
    "execution": {
     "iopub.execute_input": "2022-12-28T13:07:41.785449Z",
     "iopub.status.busy": "2022-12-28T13:07:41.785074Z",
     "iopub.status.idle": "2022-12-28T13:07:41.791674Z",
     "shell.execute_reply": "2022-12-28T13:07:41.790632Z",
     "shell.execute_reply.started": "2022-12-28T13:07:41.785416Z"
    },
    "papermill": {
     "duration": null,
     "end_time": null,
     "exception": null,
     "start_time": null,
     "status": "pending"
    },
    "tags": []
   },
   "outputs": [],
   "source": [
    "NB = GaussianNB()"
   ]
  },
  {
   "cell_type": "code",
   "execution_count": null,
   "id": "742b3f22",
   "metadata": {
    "execution": {
     "iopub.execute_input": "2022-12-28T13:08:20.558786Z",
     "iopub.status.busy": "2022-12-28T13:08:20.558438Z",
     "iopub.status.idle": "2022-12-28T13:08:20.578237Z",
     "shell.execute_reply": "2022-12-28T13:08:20.577221Z",
     "shell.execute_reply.started": "2022-12-28T13:08:20.558757Z"
    },
    "papermill": {
     "duration": null,
     "end_time": null,
     "exception": null,
     "start_time": null,
     "status": "pending"
    },
    "tags": []
   },
   "outputs": [],
   "source": [
    "NB.fit(xtrain,ytrain)"
   ]
  },
  {
   "cell_type": "code",
   "execution_count": null,
   "id": "0607eb9b",
   "metadata": {
    "execution": {
     "iopub.execute_input": "2022-12-28T13:16:01.904285Z",
     "iopub.status.busy": "2022-12-28T13:16:01.903899Z",
     "iopub.status.idle": "2022-12-28T13:16:01.917527Z",
     "shell.execute_reply": "2022-12-28T13:16:01.916308Z",
     "shell.execute_reply.started": "2022-12-28T13:16:01.904230Z"
    },
    "papermill": {
     "duration": null,
     "end_time": null,
     "exception": null,
     "start_time": null,
     "status": "pending"
    },
    "tags": []
   },
   "outputs": [],
   "source": [
    "NB.score(xtest,ytest)"
   ]
  },
  {
   "cell_type": "code",
   "execution_count": null,
   "id": "fd6c926f",
   "metadata": {
    "execution": {
     "iopub.execute_input": "2022-12-28T13:12:21.762314Z",
     "iopub.status.busy": "2022-12-28T13:12:21.761844Z",
     "iopub.status.idle": "2022-12-28T13:12:21.770267Z",
     "shell.execute_reply": "2022-12-28T13:12:21.769284Z",
     "shell.execute_reply.started": "2022-12-28T13:12:21.762240Z"
    },
    "papermill": {
     "duration": null,
     "end_time": null,
     "exception": null,
     "start_time": null,
     "status": "pending"
    },
    "tags": []
   },
   "outputs": [],
   "source": [
    "from sklearn.neighbors import KNeighborsClassifier  \n",
    "KNN= KNeighborsClassifier(n_neighbors=5, metric='minkowski', p=2 )  "
   ]
  },
  {
   "cell_type": "code",
   "execution_count": null,
   "id": "b4f01da3",
   "metadata": {
    "execution": {
     "iopub.execute_input": "2022-12-28T13:12:45.745082Z",
     "iopub.status.busy": "2022-12-28T13:12:45.744680Z",
     "iopub.status.idle": "2022-12-28T13:12:45.757450Z",
     "shell.execute_reply": "2022-12-28T13:12:45.756401Z",
     "shell.execute_reply.started": "2022-12-28T13:12:45.745049Z"
    },
    "papermill": {
     "duration": null,
     "end_time": null,
     "exception": null,
     "start_time": null,
     "status": "pending"
    },
    "tags": []
   },
   "outputs": [],
   "source": [
    "KNN.fit(xtrain,ytrain)"
   ]
  },
  {
   "cell_type": "code",
   "execution_count": null,
   "id": "9eb33819",
   "metadata": {
    "execution": {
     "iopub.execute_input": "2022-12-28T13:13:04.242161Z",
     "iopub.status.busy": "2022-12-28T13:13:04.241103Z",
     "iopub.status.idle": "2022-12-28T13:13:07.317195Z",
     "shell.execute_reply": "2022-12-28T13:13:07.316172Z",
     "shell.execute_reply.started": "2022-12-28T13:13:04.242114Z"
    },
    "papermill": {
     "duration": null,
     "end_time": null,
     "exception": null,
     "start_time": null,
     "status": "pending"
    },
    "tags": []
   },
   "outputs": [],
   "source": [
    "KNN.score(xtest,ytest)"
   ]
  },
  {
   "cell_type": "markdown",
   "id": "05da4ab7",
   "metadata": {
    "papermill": {
     "duration": null,
     "end_time": null,
     "exception": null,
     "start_time": null,
     "status": "pending"
    },
    "tags": []
   },
   "source": [
    "Best one is Random Forest Classification, which accuracy was 81% "
   ]
  }
 ],
 "metadata": {
  "kernelspec": {
   "display_name": "Python 3",
   "language": "python",
   "name": "python3"
  },
  "language_info": {
   "codemirror_mode": {
    "name": "ipython",
    "version": 3
   },
   "file_extension": ".py",
   "mimetype": "text/x-python",
   "name": "python",
   "nbconvert_exporter": "python",
   "pygments_lexer": "ipython3",
   "version": "3.7.12"
  },
  "papermill": {
   "default_parameters": {},
   "duration": 9.884343,
   "end_time": "2022-12-28T13:16:50.563504",
   "environment_variables": {},
   "exception": true,
   "input_path": "__notebook__.ipynb",
   "output_path": "__notebook__.ipynb",
   "parameters": {},
   "start_time": "2022-12-28T13:16:40.679161",
   "version": "2.3.4"
  }
 },
 "nbformat": 4,
 "nbformat_minor": 5
}
